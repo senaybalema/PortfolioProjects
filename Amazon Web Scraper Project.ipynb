{
 "cells": [
  {
   "cell_type": "code",
   "execution_count": 1,
   "id": "3c4a1e39",
   "metadata": {},
   "outputs": [],
   "source": [
    "#Import libraries \n",
    "\n",
    "from bs4 import BeautifulSoup\n",
    "import requests \n",
    "import smtplib\n",
    "import time\n",
    "import datetime\n"
   ]
  },
  {
   "cell_type": "code",
   "execution_count": 2,
   "id": "5631aac3",
   "metadata": {},
   "outputs": [],
   "source": [
    "# Connect to Website and pull in data\n",
    "URL = 'https://www.amazon.com/gp/product/B07FNW9FGJ/ref=ewc_pr_img_1?smid=ATVPDKIKX0DER&psc=1&customizationToken=MC_Assembly_1%23B0752XJYNL&customId=B0752XJYNL'\n",
    "\n",
    "headers = { \"User-Agent\": \"Mozilla/5.0 (Windows NT 10.0; Win64; x64) AppleWebKit/537.36 (KHTML, like Gecko) Chrome/103.0.0.0 Safari/537.36\"}\n",
    "\n",
    "page = requests.get(URL, headers = headers)"
   ]
  },
  {
   "cell_type": "code",
   "execution_count": 3,
   "id": "46574196",
   "metadata": {
    "scrolled": true
   },
   "outputs": [],
   "source": [
    "soup1 = BeautifulSoup(page.content, \"html.parser\")\n",
    "\n",
    "soup2 = BeautifulSoup(soup1.prettify(), \"html.parser\")\n",
    "\n",
    "#print(soup2)"
   ]
  },
  {
   "cell_type": "code",
   "execution_count": 64,
   "id": "729888a5",
   "metadata": {},
   "outputs": [
    {
     "name": "stdout",
     "output_type": "stream",
     "text": [
      "\n",
      "                   Funny Got Data MIS Data Systems Business Analyst T-Shirt\n",
      "                  \n"
     ]
    }
   ],
   "source": [
    "#Item name\n",
    "if soup2.find(id=\"productTitle\"):\n",
    "    title = soup2.find(id=\"productTitle\").get_text()\n",
    "else:\n",
    "    title = soup2.find('span','a-size-large product-title-word-break').text\n",
    "    \n",
    "print(title)"
   ]
  },
  {
   "cell_type": "code",
   "execution_count": 43,
   "id": "9f9ab066",
   "metadata": {},
   "outputs": [
    {
     "name": "stdout",
     "output_type": "stream",
     "text": [
      "Funny Got Data MIS Data Systems Business Analyst T-Shirt\n",
      "\n",
      "                  $16.99\n",
      "                 \n"
     ]
    }
   ],
   "source": [
    "#print item price\n",
    "if soup2.find(id=\"priceblock_ourprice\"):\n",
    "    price = soup2.find(id=\"priceblock_ourprice\").get_text()\n",
    "else: \n",
    "    price = soup2.find('span', 'a-offscreen').text\n",
    "# or you can say price = soup2.find(class_='a-offscreen').text    \n",
    "\n",
    "print(title)\n",
    "print(price)\n",
    "# If id = \"priceblock-ourprice\" isn't visible on Amazon html, search for class_=\"a-offscreen\" as an alternative to find the price\n"
   ]
  },
  {
   "cell_type": "code",
   "execution_count": 44,
   "id": "a0aa8ca3",
   "metadata": {},
   "outputs": [
    {
     "name": "stdout",
     "output_type": "stream",
     "text": [
      "16.99\n",
      "Funny Got Data MIS Data Systems Business Analyst T-Shirt\n"
     ]
    },
    {
     "data": {
      "text/plain": [
       "str"
      ]
     },
     "execution_count": 44,
     "metadata": {},
     "output_type": "execute_result"
    }
   ],
   "source": [
    "# Clean up the data a little bit\n",
    "\n",
    "price = price.strip()[1:]\n",
    "title = title.strip()\n",
    "\n",
    "print(price)\n",
    "print(title)\n",
    "type(price)"
   ]
  },
  {
   "cell_type": "code",
   "execution_count": 45,
   "id": "171368f9",
   "metadata": {},
   "outputs": [
    {
     "name": "stdout",
     "output_type": "stream",
     "text": [
      "2022-07-14\n"
     ]
    }
   ],
   "source": [
    "import datetime \n",
    "\n",
    "today = datetime.date.today()\n",
    "\n",
    "print(today)"
   ]
  },
  {
   "cell_type": "code",
   "execution_count": 46,
   "id": "a79d80c1",
   "metadata": {},
   "outputs": [
    {
     "data": {
      "text/plain": [
       "list"
      ]
     },
     "execution_count": 46,
     "metadata": {},
     "output_type": "execute_result"
    }
   ],
   "source": [
    "# Create csv file to store pricing\n",
    "import csv\n",
    "\n",
    "header = ['Title', 'Price', 'Date']\n",
    "data = [title, price, today]\n",
    "\n",
    "with open('AmazonWebScraperDataset.csv', 'w', newline='', encoding='UTF8') as f:\n",
    "    writer = csv.writer(f)\n",
    "    writer.writerow(header)\n",
    "    writer.writerow(data)\n",
    "\n",
    "type(data)"
   ]
  },
  {
   "cell_type": "code",
   "execution_count": 47,
   "id": "8696d8bc",
   "metadata": {},
   "outputs": [
    {
     "name": "stdout",
     "output_type": "stream",
     "text": [
      "                                               Title  Price        Date\n",
      "0  Funny Got Data MIS Data Systems Business Analy...  16.99  2022-07-14\n"
     ]
    }
   ],
   "source": [
    "#Import csv created and create a dataframe\n",
    "\n",
    "import pandas as pd \n",
    "\n",
    "df = pd.read_csv(r'C:\\Users\\senay\\AmazonWebScraperDataset.csv')\n",
    "\n",
    "print(df)"
   ]
  },
  {
   "cell_type": "code",
   "execution_count": 48,
   "id": "4b0ac9d2",
   "metadata": {},
   "outputs": [],
   "source": [
    "#Now we append data to the csv \n",
    "\n",
    "with open('AmazonWebScraperDataset.csv', 'a+', newline='', encoding='UTF8') as f:\n",
    "    writer = csv.writer(f)\n",
    "    writer.writerow(data)"
   ]
  },
  {
   "cell_type": "code",
   "execution_count": 89,
   "id": "01e6d652",
   "metadata": {},
   "outputs": [],
   "source": [
    "#Automate data\n",
    "\n",
    "#Combine all of the above code into one function\n",
    "\n",
    "def check_price():\n",
    "    \n",
    "    URL = 'https://www.amazon.com/gp/product/B07FNW9FGJ/ref=sw_img_1?smid=ATVPDKIKX0DER&customId=B0752XJYNL&th=1&psc=1'\n",
    "\n",
    "    headers = { \"User-Agent\": \"Mozilla/5.0 (Windows NT 10.0; Win64; x64) AppleWebKit/537.36 (KHTML, like Gecko) Chrome/103.0.5060.114 Safari/537.36 Edg/103.0.1264.49\"}\n",
    "\n",
    "    page = requests.get(URL, headers = headers)\n",
    "\n",
    "    soup1 = BeautifulSoup(page.content, \"html.parser\")\n",
    "\n",
    "    soup2 = BeautifulSoup(soup1.prettify(), \"html.parser\")\n",
    "\n",
    "    if soup2.find(id=\"productTitle\"):\n",
    "        title = soup2.find(id='productTitle').get_text(strip=True)\n",
    "    else:\n",
    "        title = soup2.find('span','a-size-large product-title-word-break').text\n",
    "\n",
    "\n",
    "    if soup2.find(id=\"priceblock_ourprice\"):\n",
    "        price = soup2.find(id=\"priceblock_ourprice\").get_text()\n",
    "    else: \n",
    "        price = soup2.find('span', 'a-offscreen').text\n",
    "    \n",
    "    price = price.strip()[1:]\n",
    "    title = title.strip()\n",
    "    \n",
    "    import datetime \n",
    "\n",
    "    today = datetime.date.today()\n",
    "    \n",
    "    import csv\n",
    "\n",
    "    header = ['Title', 'Price', 'Date']\n",
    "    data = [title, price, today]\n",
    "    \n",
    "    with open('AmazonWebScraperDataset.csv', 'a+', newline='', encoding='UTF8') as f:\n",
    "        writer = csv.writer(f)\n",
    "        writer.writerow(data)"
   ]
  },
  {
   "cell_type": "code",
   "execution_count": null,
   "id": "3b49accb",
   "metadata": {},
   "outputs": [],
   "source": [
    "# Runs check_price after a set time and inputs data into your CSV\n",
    "while(True):\n",
    "    check_price()\n",
    "    time.sleep(86400)"
   ]
  },
  {
   "cell_type": "code",
   "execution_count": 87,
   "id": "3f7a368b",
   "metadata": {},
   "outputs": [
    {
     "name": "stdout",
     "output_type": "stream",
     "text": [
      "                                               Title  Price        Date\n",
      "0  Funny Got Data MIS Data Systems Business Analy...  16.99  2022-07-14\n",
      "1  Funny Got Data MIS Data Systems Business Analy...  16.99  2022-07-14\n",
      "2  Funny Got Data MIS Data Systems Business Analy...  16.99  2022-07-14\n"
     ]
    }
   ],
   "source": [
    "import pandas as pd \n",
    "\n",
    "df = pd.read_csv(r'C:\\Users\\senay\\AmazonWebScraperDataset.csv')\n",
    "\n",
    "print(df)"
   ]
  },
  {
   "cell_type": "code",
   "execution_count": null,
   "id": "cb07975f",
   "metadata": {},
   "outputs": [],
   "source": [
    "# If uou want to try sending yourself an email (just for fun) when a price hits below a certain level you can try it\n",
    "# out with this script\n",
    "\n",
    "def send_mail():\n",
    "    server = smtplib.SMTP_SSL('smtp.gmail.com',465)\n",
    "    server.ehlo()\n",
    "    #server.starttls()\n",
    "    server.ehlo()\n",
    "    server.login('senayabalema@gmail.com','xxxxxxxxxxxxxx')\n",
    "    \n",
    "    subject = \"The Shirt you want is below $15! Now is your chance to buy!\"\n",
    "    body = \"Senay, You're just in luck!!! Pick up the shirt of your dreams ASAP!!! Link here: https://www.amazon.com/gp/product/B07FNW9FGJ/ref=ewc_pr_img_1?smid=ATVPDKIKX0DER&psc=1&customizationToken=MC_Assembly_1%23B0752XJYNL&customId=B0752XJYNL'\n",
    "   \n",
    "    msg = f\"Subject: {subject}\\n\\n{body}\"\n",
    "    \n",
    "    server.sendmail(\n",
    "        'senayabalema@gmail.com',\n",
    "        msg\n",
    "     \n",
    "    )"
   ]
  },
  {
   "cell_type": "code",
   "execution_count": null,
   "id": "32a0a933",
   "metadata": {},
   "outputs": [],
   "source": []
  }
 ],
 "metadata": {
  "kernelspec": {
   "display_name": "Python 3 (ipykernel)",
   "language": "python",
   "name": "python3"
  },
  "language_info": {
   "codemirror_mode": {
    "name": "ipython",
    "version": 3
   },
   "file_extension": ".py",
   "mimetype": "text/x-python",
   "name": "python",
   "nbconvert_exporter": "python",
   "pygments_lexer": "ipython3",
   "version": "3.8.11"
  }
 },
 "nbformat": 4,
 "nbformat_minor": 5
}
