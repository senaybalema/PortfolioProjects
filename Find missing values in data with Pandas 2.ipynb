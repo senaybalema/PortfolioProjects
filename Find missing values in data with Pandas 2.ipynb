{
 "cells": [
  {
   "cell_type": "code",
   "execution_count": 42,
   "id": "b115031c",
   "metadata": {},
   "outputs": [],
   "source": [
    "import pandas as pd"
   ]
  },
  {
   "cell_type": "code",
   "execution_count": 43,
   "id": "61f246da",
   "metadata": {},
   "outputs": [],
   "source": [
    "taxi_trips = pd.read_csv(r'C:\\Users\\senay\\Desktop\\Misra Turp\\2019_Yellow_Taxi_Trip_Data.csv')\n"
   ]
  },
  {
   "cell_type": "code",
   "execution_count": 44,
   "id": "79d0a98a",
   "metadata": {},
   "outputs": [
    {
     "data": {
      "text/html": [
       "<div>\n",
       "<style scoped>\n",
       "    .dataframe tbody tr th:only-of-type {\n",
       "        vertical-align: middle;\n",
       "    }\n",
       "\n",
       "    .dataframe tbody tr th {\n",
       "        vertical-align: top;\n",
       "    }\n",
       "\n",
       "    .dataframe thead th {\n",
       "        text-align: right;\n",
       "    }\n",
       "</style>\n",
       "<table border=\"1\" class=\"dataframe\">\n",
       "  <thead>\n",
       "    <tr style=\"text-align: right;\">\n",
       "      <th></th>\n",
       "      <th>VendorID</th>\n",
       "      <th>tpep_pickup_datetime</th>\n",
       "      <th>tpep_dropoff_datetime</th>\n",
       "      <th>passenger_count</th>\n",
       "      <th>trip_distance</th>\n",
       "      <th>RatecodeID</th>\n",
       "      <th>store_and_fwd_flag</th>\n",
       "      <th>PULocationID</th>\n",
       "      <th>DOLocationID</th>\n",
       "      <th>payment_type</th>\n",
       "      <th>fare_amount</th>\n",
       "      <th>extra</th>\n",
       "      <th>mta_tax</th>\n",
       "      <th>tip_amount</th>\n",
       "      <th>tolls_amount</th>\n",
       "      <th>improvement_surcharge</th>\n",
       "      <th>total_amount</th>\n",
       "      <th>congestion_surcharge</th>\n",
       "    </tr>\n",
       "  </thead>\n",
       "  <tbody>\n",
       "    <tr>\n",
       "      <th>0</th>\n",
       "      <td>2</td>\n",
       "      <td>01/01/2019 12:00:00 AM</td>\n",
       "      <td>01/01/2019 01:03:12 AM</td>\n",
       "      <td>2</td>\n",
       "      <td>7.37</td>\n",
       "      <td>1</td>\n",
       "      <td>N</td>\n",
       "      <td>237</td>\n",
       "      <td>264</td>\n",
       "      <td>2</td>\n",
       "      <td>23.5</td>\n",
       "      <td>0.5</td>\n",
       "      <td>0.5</td>\n",
       "      <td>0.00</td>\n",
       "      <td>0.0</td>\n",
       "      <td>0.3</td>\n",
       "      <td>24.80</td>\n",
       "      <td>NaN</td>\n",
       "    </tr>\n",
       "    <tr>\n",
       "      <th>1</th>\n",
       "      <td>2</td>\n",
       "      <td>01/01/2019 12:00:01 AM</td>\n",
       "      <td>01/01/2019 12:05:17 AM</td>\n",
       "      <td>6</td>\n",
       "      <td>1.73</td>\n",
       "      <td>1</td>\n",
       "      <td>N</td>\n",
       "      <td>263</td>\n",
       "      <td>74</td>\n",
       "      <td>2</td>\n",
       "      <td>7.0</td>\n",
       "      <td>0.5</td>\n",
       "      <td>0.5</td>\n",
       "      <td>0.00</td>\n",
       "      <td>0.0</td>\n",
       "      <td>0.3</td>\n",
       "      <td>8.30</td>\n",
       "      <td>NaN</td>\n",
       "    </tr>\n",
       "    <tr>\n",
       "      <th>2</th>\n",
       "      <td>1</td>\n",
       "      <td>01/01/2019 12:00:03 AM</td>\n",
       "      <td>01/01/2019 12:04:26 AM</td>\n",
       "      <td>1</td>\n",
       "      <td>0.60</td>\n",
       "      <td>1</td>\n",
       "      <td>N</td>\n",
       "      <td>80</td>\n",
       "      <td>112</td>\n",
       "      <td>2</td>\n",
       "      <td>5.0</td>\n",
       "      <td>0.5</td>\n",
       "      <td>0.5</td>\n",
       "      <td>0.00</td>\n",
       "      <td>0.0</td>\n",
       "      <td>0.3</td>\n",
       "      <td>6.30</td>\n",
       "      <td>NaN</td>\n",
       "    </tr>\n",
       "    <tr>\n",
       "      <th>3</th>\n",
       "      <td>4</td>\n",
       "      <td>01/01/2019 12:00:05 AM</td>\n",
       "      <td>01/01/2019 12:11:05 AM</td>\n",
       "      <td>1</td>\n",
       "      <td>1.53</td>\n",
       "      <td>1</td>\n",
       "      <td>N</td>\n",
       "      <td>231</td>\n",
       "      <td>148</td>\n",
       "      <td>2</td>\n",
       "      <td>9.0</td>\n",
       "      <td>0.5</td>\n",
       "      <td>0.5</td>\n",
       "      <td>0.00</td>\n",
       "      <td>0.0</td>\n",
       "      <td>0.3</td>\n",
       "      <td>10.30</td>\n",
       "      <td>NaN</td>\n",
       "    </tr>\n",
       "    <tr>\n",
       "      <th>4</th>\n",
       "      <td>1</td>\n",
       "      <td>01/01/2019 12:00:06 AM</td>\n",
       "      <td>01/01/2019 12:44:05 AM</td>\n",
       "      <td>1</td>\n",
       "      <td>3.20</td>\n",
       "      <td>1</td>\n",
       "      <td>N</td>\n",
       "      <td>114</td>\n",
       "      <td>79</td>\n",
       "      <td>1</td>\n",
       "      <td>26.0</td>\n",
       "      <td>0.5</td>\n",
       "      <td>0.5</td>\n",
       "      <td>5.45</td>\n",
       "      <td>0.0</td>\n",
       "      <td>0.3</td>\n",
       "      <td>32.75</td>\n",
       "      <td>NaN</td>\n",
       "    </tr>\n",
       "  </tbody>\n",
       "</table>\n",
       "</div>"
      ],
      "text/plain": [
       "   VendorID    tpep_pickup_datetime   tpep_dropoff_datetime  passenger_count  \\\n",
       "0         2  01/01/2019 12:00:00 AM  01/01/2019 01:03:12 AM                2   \n",
       "1         2  01/01/2019 12:00:01 AM  01/01/2019 12:05:17 AM                6   \n",
       "2         1  01/01/2019 12:00:03 AM  01/01/2019 12:04:26 AM                1   \n",
       "3         4  01/01/2019 12:00:05 AM  01/01/2019 12:11:05 AM                1   \n",
       "4         1  01/01/2019 12:00:06 AM  01/01/2019 12:44:05 AM                1   \n",
       "\n",
       "   trip_distance  RatecodeID store_and_fwd_flag  PULocationID  DOLocationID  \\\n",
       "0           7.37           1                  N           237           264   \n",
       "1           1.73           1                  N           263            74   \n",
       "2           0.60           1                  N            80           112   \n",
       "3           1.53           1                  N           231           148   \n",
       "4           3.20           1                  N           114            79   \n",
       "\n",
       "   payment_type  fare_amount  extra  mta_tax  tip_amount  tolls_amount  \\\n",
       "0             2         23.5    0.5      0.5        0.00           0.0   \n",
       "1             2          7.0    0.5      0.5        0.00           0.0   \n",
       "2             2          5.0    0.5      0.5        0.00           0.0   \n",
       "3             2          9.0    0.5      0.5        0.00           0.0   \n",
       "4             1         26.0    0.5      0.5        5.45           0.0   \n",
       "\n",
       "   improvement_surcharge  total_amount  congestion_surcharge  \n",
       "0                    0.3         24.80                   NaN  \n",
       "1                    0.3          8.30                   NaN  \n",
       "2                    0.3          6.30                   NaN  \n",
       "3                    0.3         10.30                   NaN  \n",
       "4                    0.3         32.75                   NaN  "
      ]
     },
     "execution_count": 44,
     "metadata": {},
     "output_type": "execute_result"
    }
   ],
   "source": [
    "taxi_trips.head()"
   ]
  },
  {
   "cell_type": "code",
   "execution_count": 45,
   "id": "fd9c48bf",
   "metadata": {},
   "outputs": [
    {
     "data": {
      "text/plain": [
       "Index(['VendorID', 'tpep_pickup_datetime', 'tpep_dropoff_datetime',\n",
       "       'passenger_count', 'trip_distance', 'RatecodeID', 'store_and_fwd_flag',\n",
       "       'PULocationID', 'DOLocationID', 'payment_type', 'fare_amount', 'extra',\n",
       "       'mta_tax', 'tip_amount', 'tolls_amount', 'improvement_surcharge',\n",
       "       'total_amount', 'congestion_surcharge'],\n",
       "      dtype='object')"
      ]
     },
     "execution_count": 45,
     "metadata": {},
     "output_type": "execute_result"
    }
   ],
   "source": [
    "taxi_trips.columns"
   ]
  },
  {
   "cell_type": "code",
   "execution_count": 46,
   "id": "e9d065b3",
   "metadata": {},
   "outputs": [],
   "source": [
    "taxi_trips= taxi_trips[['tpep_pickup_datetime',\n",
    "       'passenger_count', 'trip_distance','PULocationID',  'payment_type',\n",
    "       'total_amount', ]]"
   ]
  },
  {
   "cell_type": "code",
   "execution_count": 47,
   "id": "ddfc0bb0",
   "metadata": {},
   "outputs": [
    {
     "name": "stdout",
     "output_type": "stream",
     "text": [
      "<class 'pandas.core.frame.DataFrame'>\n",
      "RangeIndex: 7664915 entries, 0 to 7664914\n",
      "Data columns (total 6 columns):\n",
      " #   Column                Dtype  \n",
      "---  ------                -----  \n",
      " 0   tpep_pickup_datetime  object \n",
      " 1   passenger_count       int64  \n",
      " 2   trip_distance         float64\n",
      " 3   PULocationID          int64  \n",
      " 4   payment_type          int64  \n",
      " 5   total_amount          float64\n",
      "dtypes: float64(2), int64(3), object(1)\n",
      "memory usage: 350.9+ MB\n"
     ]
    }
   ],
   "source": [
    "taxi_trips.info()"
   ]
  },
  {
   "cell_type": "code",
   "execution_count": 48,
   "id": "201cfd16",
   "metadata": {},
   "outputs": [
    {
     "data": {
      "text/html": [
       "<div>\n",
       "<style scoped>\n",
       "    .dataframe tbody tr th:only-of-type {\n",
       "        vertical-align: middle;\n",
       "    }\n",
       "\n",
       "    .dataframe tbody tr th {\n",
       "        vertical-align: top;\n",
       "    }\n",
       "\n",
       "    .dataframe thead th {\n",
       "        text-align: right;\n",
       "    }\n",
       "</style>\n",
       "<table border=\"1\" class=\"dataframe\">\n",
       "  <thead>\n",
       "    <tr style=\"text-align: right;\">\n",
       "      <th></th>\n",
       "      <th>passenger_count</th>\n",
       "      <th>trip_distance</th>\n",
       "      <th>PULocationID</th>\n",
       "      <th>payment_type</th>\n",
       "      <th>total_amount</th>\n",
       "    </tr>\n",
       "  </thead>\n",
       "  <tbody>\n",
       "    <tr>\n",
       "      <th>count</th>\n",
       "      <td>7.664915e+06</td>\n",
       "      <td>7.664915e+06</td>\n",
       "      <td>7.664915e+06</td>\n",
       "      <td>7.664915e+06</td>\n",
       "      <td>7.664915e+06</td>\n",
       "    </tr>\n",
       "    <tr>\n",
       "      <th>mean</th>\n",
       "      <td>1.567054e+00</td>\n",
       "      <td>2.800816e+00</td>\n",
       "      <td>1.655033e+02</td>\n",
       "      <td>1.291784e+00</td>\n",
       "      <td>1.568141e+01</td>\n",
       "    </tr>\n",
       "    <tr>\n",
       "      <th>std</th>\n",
       "      <td>1.224408e+00</td>\n",
       "      <td>3.737349e+00</td>\n",
       "      <td>6.639292e+01</td>\n",
       "      <td>4.733264e-01</td>\n",
       "      <td>2.623422e+02</td>\n",
       "    </tr>\n",
       "    <tr>\n",
       "      <th>min</th>\n",
       "      <td>0.000000e+00</td>\n",
       "      <td>0.000000e+00</td>\n",
       "      <td>1.000000e+00</td>\n",
       "      <td>1.000000e+00</td>\n",
       "      <td>-3.628000e+02</td>\n",
       "    </tr>\n",
       "    <tr>\n",
       "      <th>25%</th>\n",
       "      <td>1.000000e+00</td>\n",
       "      <td>9.000000e-01</td>\n",
       "      <td>1.300000e+02</td>\n",
       "      <td>1.000000e+00</td>\n",
       "      <td>8.190000e+00</td>\n",
       "    </tr>\n",
       "    <tr>\n",
       "      <th>50%</th>\n",
       "      <td>1.000000e+00</td>\n",
       "      <td>1.530000e+00</td>\n",
       "      <td>1.620000e+02</td>\n",
       "      <td>1.000000e+00</td>\n",
       "      <td>1.127000e+01</td>\n",
       "    </tr>\n",
       "    <tr>\n",
       "      <th>75%</th>\n",
       "      <td>2.000000e+00</td>\n",
       "      <td>2.800000e+00</td>\n",
       "      <td>2.340000e+02</td>\n",
       "      <td>2.000000e+00</td>\n",
       "      <td>1.656000e+01</td>\n",
       "    </tr>\n",
       "    <tr>\n",
       "      <th>max</th>\n",
       "      <td>9.000000e+00</td>\n",
       "      <td>8.318000e+02</td>\n",
       "      <td>2.650000e+02</td>\n",
       "      <td>4.000000e+00</td>\n",
       "      <td>6.232617e+05</td>\n",
       "    </tr>\n",
       "  </tbody>\n",
       "</table>\n",
       "</div>"
      ],
      "text/plain": [
       "       passenger_count  trip_distance  PULocationID  payment_type  \\\n",
       "count     7.664915e+06   7.664915e+06  7.664915e+06  7.664915e+06   \n",
       "mean      1.567054e+00   2.800816e+00  1.655033e+02  1.291784e+00   \n",
       "std       1.224408e+00   3.737349e+00  6.639292e+01  4.733264e-01   \n",
       "min       0.000000e+00   0.000000e+00  1.000000e+00  1.000000e+00   \n",
       "25%       1.000000e+00   9.000000e-01  1.300000e+02  1.000000e+00   \n",
       "50%       1.000000e+00   1.530000e+00  1.620000e+02  1.000000e+00   \n",
       "75%       2.000000e+00   2.800000e+00  2.340000e+02  2.000000e+00   \n",
       "max       9.000000e+00   8.318000e+02  2.650000e+02  4.000000e+00   \n",
       "\n",
       "       total_amount  \n",
       "count  7.664915e+06  \n",
       "mean   1.568141e+01  \n",
       "std    2.623422e+02  \n",
       "min   -3.628000e+02  \n",
       "25%    8.190000e+00  \n",
       "50%    1.127000e+01  \n",
       "75%    1.656000e+01  \n",
       "max    6.232617e+05  "
      ]
     },
     "execution_count": 48,
     "metadata": {},
     "output_type": "execute_result"
    }
   ],
   "source": [
    "taxi_trips.describe()"
   ]
  },
  {
   "cell_type": "code",
   "execution_count": 49,
   "id": "df22b732",
   "metadata": {},
   "outputs": [
    {
     "data": {
      "text/plain": [
       "tpep_pickup_datetime     object\n",
       "passenger_count           int64\n",
       "trip_distance           float64\n",
       "PULocationID              int64\n",
       "payment_type              int64\n",
       "total_amount            float64\n",
       "dtype: object"
      ]
     },
     "execution_count": 49,
     "metadata": {},
     "output_type": "execute_result"
    }
   ],
   "source": [
    "taxi_trips.dtypes"
   ]
  },
  {
   "cell_type": "markdown",
   "id": "f0356c18",
   "metadata": {},
   "source": [
    "# Using built-in checks"
   ]
  },
  {
   "cell_type": "code",
   "execution_count": 50,
   "id": "5f8f6ad7",
   "metadata": {},
   "outputs": [
    {
     "data": {
      "text/html": [
       "<div>\n",
       "<style scoped>\n",
       "    .dataframe tbody tr th:only-of-type {\n",
       "        vertical-align: middle;\n",
       "    }\n",
       "\n",
       "    .dataframe tbody tr th {\n",
       "        vertical-align: top;\n",
       "    }\n",
       "\n",
       "    .dataframe thead th {\n",
       "        text-align: right;\n",
       "    }\n",
       "</style>\n",
       "<table border=\"1\" class=\"dataframe\">\n",
       "  <thead>\n",
       "    <tr style=\"text-align: right;\">\n",
       "      <th></th>\n",
       "      <th>tpep_pickup_datetime</th>\n",
       "      <th>passenger_count</th>\n",
       "      <th>trip_distance</th>\n",
       "      <th>PULocationID</th>\n",
       "      <th>payment_type</th>\n",
       "      <th>total_amount</th>\n",
       "    </tr>\n",
       "  </thead>\n",
       "  <tbody>\n",
       "    <tr>\n",
       "      <th>0</th>\n",
       "      <td>False</td>\n",
       "      <td>False</td>\n",
       "      <td>False</td>\n",
       "      <td>False</td>\n",
       "      <td>False</td>\n",
       "      <td>False</td>\n",
       "    </tr>\n",
       "    <tr>\n",
       "      <th>1</th>\n",
       "      <td>False</td>\n",
       "      <td>False</td>\n",
       "      <td>False</td>\n",
       "      <td>False</td>\n",
       "      <td>False</td>\n",
       "      <td>False</td>\n",
       "    </tr>\n",
       "    <tr>\n",
       "      <th>2</th>\n",
       "      <td>False</td>\n",
       "      <td>False</td>\n",
       "      <td>False</td>\n",
       "      <td>False</td>\n",
       "      <td>False</td>\n",
       "      <td>False</td>\n",
       "    </tr>\n",
       "    <tr>\n",
       "      <th>3</th>\n",
       "      <td>False</td>\n",
       "      <td>False</td>\n",
       "      <td>False</td>\n",
       "      <td>False</td>\n",
       "      <td>False</td>\n",
       "      <td>False</td>\n",
       "    </tr>\n",
       "    <tr>\n",
       "      <th>4</th>\n",
       "      <td>False</td>\n",
       "      <td>False</td>\n",
       "      <td>False</td>\n",
       "      <td>False</td>\n",
       "      <td>False</td>\n",
       "      <td>False</td>\n",
       "    </tr>\n",
       "  </tbody>\n",
       "</table>\n",
       "</div>"
      ],
      "text/plain": [
       "   tpep_pickup_datetime  passenger_count  trip_distance  PULocationID  \\\n",
       "0                 False            False          False         False   \n",
       "1                 False            False          False         False   \n",
       "2                 False            False          False         False   \n",
       "3                 False            False          False         False   \n",
       "4                 False            False          False         False   \n",
       "\n",
       "   payment_type  total_amount  \n",
       "0         False         False  \n",
       "1         False         False  \n",
       "2         False         False  \n",
       "3         False         False  \n",
       "4         False         False  "
      ]
     },
     "execution_count": 50,
     "metadata": {},
     "output_type": "execute_result"
    }
   ],
   "source": [
    "taxi_trips.head().isna()"
   ]
  },
  {
   "cell_type": "code",
   "execution_count": 51,
   "id": "77782921",
   "metadata": {},
   "outputs": [
    {
     "data": {
      "text/plain": [
       "tpep_pickup_datetime    0\n",
       "passenger_count         0\n",
       "trip_distance           0\n",
       "PULocationID            0\n",
       "payment_type            0\n",
       "total_amount            0\n",
       "dtype: int64"
      ]
     },
     "execution_count": 51,
     "metadata": {},
     "output_type": "execute_result"
    }
   ],
   "source": [
    "taxi_trips.isnull().sum()"
   ]
  },
  {
   "cell_type": "code",
   "execution_count": 52,
   "id": "7d7bb509",
   "metadata": {},
   "outputs": [
    {
     "data": {
      "text/plain": [
       "tpep_pickup_datetime    0\n",
       "passenger_count         0\n",
       "trip_distance           0\n",
       "PULocationID            0\n",
       "payment_type            0\n",
       "total_amount            0\n",
       "dtype: int64"
      ]
     },
     "execution_count": 52,
     "metadata": {},
     "output_type": "execute_result"
    }
   ],
   "source": [
    "taxi_trips.isna().sum()"
   ]
  },
  {
   "cell_type": "markdown",
   "id": "bc1bb728",
   "metadata": {},
   "source": [
    "# Checking Data Values"
   ]
  },
  {
   "cell_type": "code",
   "execution_count": 53,
   "id": "24b48d66",
   "metadata": {},
   "outputs": [
    {
     "data": {
      "text/plain": [
       "1    5483906\n",
       "2    2136680\n",
       "3      33167\n",
       "4      11162\n",
       "Name: payment_type, dtype: int64"
      ]
     },
     "execution_count": 53,
     "metadata": {},
     "output_type": "execute_result"
    }
   ],
   "source": [
    "taxi_trips['payment_type'].value_counts()"
   ]
  },
  {
   "cell_type": "code",
   "execution_count": 54,
   "id": "c3c1729d",
   "metadata": {},
   "outputs": [
    {
     "data": {
      "text/plain": [
       "7.30      170412\n",
       "7.80      167863\n",
       "6.80      167834\n",
       "8.30      161665\n",
       "8.80      159011\n",
       "           ...  \n",
       "225.60         1\n",
       "70.21          1\n",
       "106.10         1\n",
       "97.35          1\n",
       "128.68         1\n",
       "Name: total_amount, Length: 12188, dtype: int64"
      ]
     },
     "execution_count": 54,
     "metadata": {},
     "output_type": "execute_result"
    }
   ],
   "source": [
    "taxi_trips['total_amount'].value_counts()"
   ]
  },
  {
   "cell_type": "markdown",
   "id": "18f056c5",
   "metadata": {},
   "source": [
    "# Checking type of column"
   ]
  },
  {
   "cell_type": "code",
   "execution_count": 59,
   "id": "55801b3f",
   "metadata": {},
   "outputs": [
    {
     "data": {
      "text/plain": [
       "tpep_pickup_datetime     object\n",
       "passenger_count           int64\n",
       "trip_distance           float64\n",
       "PULocationID              int64\n",
       "payment_type              int64\n",
       "total_amount            float64\n",
       "dtype: object"
      ]
     },
     "execution_count": 59,
     "metadata": {},
     "output_type": "execute_result"
    }
   ],
   "source": [
    "taxi_trips.dtypes"
   ]
  },
  {
   "cell_type": "code",
   "execution_count": null,
   "id": "feb2b7b2",
   "metadata": {},
   "outputs": [],
   "source": [
    "taxi_trips['tpep_pickup_datetime']= pd.to_datetime(taxi_trips['tpep_pickup_datetime'])"
   ]
  },
  {
   "cell_type": "code",
   "execution_count": 62,
   "id": "ac827197",
   "metadata": {},
   "outputs": [],
   "source": [
    "taxi_trips['total_amount']= taxi_trips['total_amount'].astype(float)"
   ]
  },
  {
   "cell_type": "code",
   "execution_count": 61,
   "id": "e427fd46",
   "metadata": {
    "scrolled": true
   },
   "outputs": [
    {
     "data": {
      "text/plain": [
       "tpep_pickup_datetime     object\n",
       "passenger_count           int64\n",
       "trip_distance           float64\n",
       "PULocationID              int64\n",
       "payment_type              int64\n",
       "total_amount            float64\n",
       "dtype: object"
      ]
     },
     "execution_count": 61,
     "metadata": {},
     "output_type": "execute_result"
    }
   ],
   "source": [
    "taxi_trips.dtypes"
   ]
  },
  {
   "cell_type": "markdown",
   "id": "f3e3049c",
   "metadata": {},
   "source": [
    "# Sorting Values"
   ]
  },
  {
   "cell_type": "code",
   "execution_count": 63,
   "id": "9c73762e",
   "metadata": {},
   "outputs": [
    {
     "data": {
      "text/plain": [
       "13433      01/01/2019 01:00:00 AM\n",
       "13432      01/01/2019 01:00:00 AM\n",
       "13428      01/01/2019 01:00:00 AM\n",
       "13429      01/01/2019 01:00:00 AM\n",
       "13430      01/01/2019 01:00:00 AM\n",
       "                    ...          \n",
       "7491304    01/31/2019 12:59:58 PM\n",
       "7491303    01/31/2019 12:59:58 PM\n",
       "7388676    01/31/2019 12:59:59 AM\n",
       "7388677    01/31/2019 12:59:59 AM\n",
       "7491305    01/31/2019 12:59:59 PM\n",
       "Name: tpep_pickup_datetime, Length: 7664915, dtype: object"
      ]
     },
     "execution_count": 63,
     "metadata": {},
     "output_type": "execute_result"
    }
   ],
   "source": [
    "taxi_trips['tpep_pickup_datetime'].sort_values()"
   ]
  },
  {
   "cell_type": "code",
   "execution_count": null,
   "id": "08af77b6",
   "metadata": {},
   "outputs": [],
   "source": []
  }
 ],
 "metadata": {
  "kernelspec": {
   "display_name": "Python 3 (ipykernel)",
   "language": "python",
   "name": "python3"
  },
  "language_info": {
   "codemirror_mode": {
    "name": "ipython",
    "version": 3
   },
   "file_extension": ".py",
   "mimetype": "text/x-python",
   "name": "python",
   "nbconvert_exporter": "python",
   "pygments_lexer": "ipython3",
   "version": "3.8.11"
  }
 },
 "nbformat": 4,
 "nbformat_minor": 5
}
