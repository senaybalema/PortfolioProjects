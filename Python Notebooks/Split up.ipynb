{
 "cells": [
  {
   "cell_type": "code",
   "execution_count": 1,
   "id": "7ad19871",
   "metadata": {},
   "outputs": [],
   "source": [
    "#import libraries"
   ]
  },
  {
   "cell_type": "code",
   "execution_count": 2,
   "id": "8e588e5d",
   "metadata": {},
   "outputs": [],
   "source": [
    "import pandas as pd\n",
    "import numpy as np\n",
    "import seaborn as sns"
   ]
  },
  {
   "cell_type": "code",
   "execution_count": 3,
   "id": "e5ae92eb",
   "metadata": {},
   "outputs": [],
   "source": [
    "#import dataframe"
   ]
  },
  {
   "cell_type": "code",
   "execution_count": 4,
   "id": "d55340eb",
   "metadata": {},
   "outputs": [
    {
     "data": {
      "text/html": [
       "<div>\n",
       "<style scoped>\n",
       "    .dataframe tbody tr th:only-of-type {\n",
       "        vertical-align: middle;\n",
       "    }\n",
       "\n",
       "    .dataframe tbody tr th {\n",
       "        vertical-align: top;\n",
       "    }\n",
       "\n",
       "    .dataframe thead th {\n",
       "        text-align: right;\n",
       "    }\n",
       "</style>\n",
       "<table border=\"1\" class=\"dataframe\">\n",
       "  <thead>\n",
       "    <tr style=\"text-align: right;\">\n",
       "      <th></th>\n",
       "      <th>card</th>\n",
       "    </tr>\n",
       "  </thead>\n",
       "  <tbody>\n",
       "    <tr>\n",
       "      <th>0</th>\n",
       "      <td>1971 Topps Nolan Ryan</td>\n",
       "    </tr>\n",
       "    <tr>\n",
       "      <th>1</th>\n",
       "      <td>1928 Ogden Don Bradman</td>\n",
       "    </tr>\n",
       "    <tr>\n",
       "      <th>2</th>\n",
       "      <td>1909 T206 Ty Cobb</td>\n",
       "    </tr>\n",
       "    <tr>\n",
       "      <th>3</th>\n",
       "      <td>1887 Lone Jack Ben Franklin</td>\n",
       "    </tr>\n",
       "    <tr>\n",
       "      <th>4</th>\n",
       "      <td>2005 Topps Justin Verlander</td>\n",
       "    </tr>\n",
       "  </tbody>\n",
       "</table>\n",
       "</div>"
      ],
      "text/plain": [
       "                          card\n",
       "0        1971 Topps Nolan Ryan\n",
       "1       1928 Ogden Don Bradman\n",
       "2            1909 T206 Ty Cobb\n",
       "3  1887 Lone Jack Ben Franklin\n",
       "4  2005 Topps Justin Verlander"
      ]
     },
     "execution_count": 4,
     "metadata": {},
     "output_type": "execute_result"
    }
   ],
   "source": [
    "df= df = pd.DataFrame({  'card': ['1971 Topps Nolan Ryan', '1928 Ogden Don Bradman', '1909 T206 Ty Cobb', '1887 Lone Jack Ben Franklin', '2005 Topps Justin Verlander'] })\n",
    "df"
   ]
  },
  {
   "cell_type": "code",
   "execution_count": 5,
   "id": "04d5458b",
   "metadata": {},
   "outputs": [
    {
     "data": {
      "text/html": [
       "<div>\n",
       "<style scoped>\n",
       "    .dataframe tbody tr th:only-of-type {\n",
       "        vertical-align: middle;\n",
       "    }\n",
       "\n",
       "    .dataframe tbody tr th {\n",
       "        vertical-align: top;\n",
       "    }\n",
       "\n",
       "    .dataframe thead th {\n",
       "        text-align: right;\n",
       "    }\n",
       "</style>\n",
       "<table border=\"1\" class=\"dataframe\">\n",
       "  <thead>\n",
       "    <tr style=\"text-align: right;\">\n",
       "      <th></th>\n",
       "      <th>card</th>\n",
       "    </tr>\n",
       "  </thead>\n",
       "  <tbody>\n",
       "    <tr>\n",
       "      <th>0</th>\n",
       "      <td>1971 Topps Nolan Ryan</td>\n",
       "    </tr>\n",
       "    <tr>\n",
       "      <th>1</th>\n",
       "      <td>1928 Ogden Don Bradman</td>\n",
       "    </tr>\n",
       "    <tr>\n",
       "      <th>2</th>\n",
       "      <td>1909 T206 Ty Cobb</td>\n",
       "    </tr>\n",
       "    <tr>\n",
       "      <th>3</th>\n",
       "      <td>1887 Lone Jack Ben Franklin</td>\n",
       "    </tr>\n",
       "    <tr>\n",
       "      <th>4</th>\n",
       "      <td>2005 Topps Justin Verlander</td>\n",
       "    </tr>\n",
       "  </tbody>\n",
       "</table>\n",
       "</div>"
      ],
      "text/plain": [
       "                          card\n",
       "0        1971 Topps Nolan Ryan\n",
       "1       1928 Ogden Don Bradman\n",
       "2            1909 T206 Ty Cobb\n",
       "3  1887 Lone Jack Ben Franklin\n",
       "4  2005 Topps Justin Verlander"
      ]
     },
     "execution_count": 5,
     "metadata": {},
     "output_type": "execute_result"
    }
   ],
   "source": [
    "df.head(5)"
   ]
  },
  {
   "cell_type": "code",
   "execution_count": 6,
   "id": "7d35a677",
   "metadata": {},
   "outputs": [
    {
     "data": {
      "text/plain": [
       "card    object\n",
       "dtype: object"
      ]
     },
     "execution_count": 6,
     "metadata": {},
     "output_type": "execute_result"
    }
   ],
   "source": [
    "df.dtypes"
   ]
  },
  {
   "cell_type": "code",
   "execution_count": 7,
   "id": "5ea29215",
   "metadata": {},
   "outputs": [],
   "source": [
    "#Generic string split"
   ]
  },
  {
   "cell_type": "code",
   "execution_count": 8,
   "id": "82f6252d",
   "metadata": {},
   "outputs": [
    {
     "data": {
      "text/plain": [
       "0           [1971, Topps, Nolan, Ryan]\n",
       "1          [1928, Ogden, Don, Bradman]\n",
       "2               [1909, T206, Ty, Cobb]\n",
       "3    [1887, Lone, Jack, Ben, Franklin]\n",
       "4     [2005, Topps, Justin, Verlander]\n",
       "Name: card, dtype: object"
      ]
     },
     "execution_count": 8,
     "metadata": {},
     "output_type": "execute_result"
    }
   ],
   "source": [
    "df['card'].str.split(' ')"
   ]
  },
  {
   "cell_type": "code",
   "execution_count": 9,
   "id": "1f45a303",
   "metadata": {},
   "outputs": [
    {
     "data": {
      "text/html": [
       "<div>\n",
       "<style scoped>\n",
       "    .dataframe tbody tr th:only-of-type {\n",
       "        vertical-align: middle;\n",
       "    }\n",
       "\n",
       "    .dataframe tbody tr th {\n",
       "        vertical-align: top;\n",
       "    }\n",
       "\n",
       "    .dataframe thead th {\n",
       "        text-align: right;\n",
       "    }\n",
       "</style>\n",
       "<table border=\"1\" class=\"dataframe\">\n",
       "  <thead>\n",
       "    <tr style=\"text-align: right;\">\n",
       "      <th></th>\n",
       "      <th>0</th>\n",
       "      <th>1</th>\n",
       "      <th>2</th>\n",
       "      <th>3</th>\n",
       "      <th>4</th>\n",
       "    </tr>\n",
       "  </thead>\n",
       "  <tbody>\n",
       "    <tr>\n",
       "      <th>0</th>\n",
       "      <td>1971</td>\n",
       "      <td>Topps</td>\n",
       "      <td>Nolan</td>\n",
       "      <td>Ryan</td>\n",
       "      <td>None</td>\n",
       "    </tr>\n",
       "    <tr>\n",
       "      <th>1</th>\n",
       "      <td>1928</td>\n",
       "      <td>Ogden</td>\n",
       "      <td>Don</td>\n",
       "      <td>Bradman</td>\n",
       "      <td>None</td>\n",
       "    </tr>\n",
       "    <tr>\n",
       "      <th>2</th>\n",
       "      <td>1909</td>\n",
       "      <td>T206</td>\n",
       "      <td>Ty</td>\n",
       "      <td>Cobb</td>\n",
       "      <td>None</td>\n",
       "    </tr>\n",
       "    <tr>\n",
       "      <th>3</th>\n",
       "      <td>1887</td>\n",
       "      <td>Lone</td>\n",
       "      <td>Jack</td>\n",
       "      <td>Ben</td>\n",
       "      <td>Franklin</td>\n",
       "    </tr>\n",
       "    <tr>\n",
       "      <th>4</th>\n",
       "      <td>2005</td>\n",
       "      <td>Topps</td>\n",
       "      <td>Justin</td>\n",
       "      <td>Verlander</td>\n",
       "      <td>None</td>\n",
       "    </tr>\n",
       "  </tbody>\n",
       "</table>\n",
       "</div>"
      ],
      "text/plain": [
       "      0      1       2          3         4\n",
       "0  1971  Topps   Nolan       Ryan      None\n",
       "1  1928  Ogden     Don    Bradman      None\n",
       "2  1909   T206      Ty       Cobb      None\n",
       "3  1887   Lone    Jack        Ben  Franklin\n",
       "4  2005  Topps  Justin  Verlander      None"
      ]
     },
     "execution_count": 9,
     "metadata": {},
     "output_type": "execute_result"
    }
   ],
   "source": [
    "df['card'].str.split(' ',expand=True)"
   ]
  },
  {
   "cell_type": "code",
   "execution_count": 10,
   "id": "e5616268",
   "metadata": {},
   "outputs": [],
   "source": [
    "#String Split Using N = 1"
   ]
  },
  {
   "cell_type": "code",
   "execution_count": 11,
   "id": "716704d1",
   "metadata": {},
   "outputs": [],
   "source": [
    "#split df so year is in its own column"
   ]
  },
  {
   "cell_type": "code",
   "execution_count": 12,
   "id": "e4ec7b39",
   "metadata": {
    "scrolled": true
   },
   "outputs": [
    {
     "data": {
      "text/html": [
       "<div>\n",
       "<style scoped>\n",
       "    .dataframe tbody tr th:only-of-type {\n",
       "        vertical-align: middle;\n",
       "    }\n",
       "\n",
       "    .dataframe tbody tr th {\n",
       "        vertical-align: top;\n",
       "    }\n",
       "\n",
       "    .dataframe thead th {\n",
       "        text-align: right;\n",
       "    }\n",
       "</style>\n",
       "<table border=\"1\" class=\"dataframe\">\n",
       "  <thead>\n",
       "    <tr style=\"text-align: right;\">\n",
       "      <th></th>\n",
       "      <th>0</th>\n",
       "      <th>1</th>\n",
       "    </tr>\n",
       "  </thead>\n",
       "  <tbody>\n",
       "    <tr>\n",
       "      <th>0</th>\n",
       "      <td>1971</td>\n",
       "      <td>Topps Nolan Ryan</td>\n",
       "    </tr>\n",
       "    <tr>\n",
       "      <th>1</th>\n",
       "      <td>1928</td>\n",
       "      <td>Ogden Don Bradman</td>\n",
       "    </tr>\n",
       "    <tr>\n",
       "      <th>2</th>\n",
       "      <td>1909</td>\n",
       "      <td>T206 Ty Cobb</td>\n",
       "    </tr>\n",
       "    <tr>\n",
       "      <th>3</th>\n",
       "      <td>1887</td>\n",
       "      <td>Lone Jack Ben Franklin</td>\n",
       "    </tr>\n",
       "    <tr>\n",
       "      <th>4</th>\n",
       "      <td>2005</td>\n",
       "      <td>Topps Justin Verlander</td>\n",
       "    </tr>\n",
       "  </tbody>\n",
       "</table>\n",
       "</div>"
      ],
      "text/plain": [
       "      0                       1\n",
       "0  1971        Topps Nolan Ryan\n",
       "1  1928       Ogden Don Bradman\n",
       "2  1909            T206 Ty Cobb\n",
       "3  1887  Lone Jack Ben Franklin\n",
       "4  2005  Topps Justin Verlander"
      ]
     },
     "execution_count": 12,
     "metadata": {},
     "output_type": "execute_result"
    }
   ],
   "source": [
    "df['card'].str.split(' ',n=1 ,expand=True)"
   ]
  },
  {
   "cell_type": "code",
   "execution_count": 13,
   "id": "8b8ae1b0",
   "metadata": {},
   "outputs": [
    {
     "data": {
      "text/html": [
       "<div>\n",
       "<style scoped>\n",
       "    .dataframe tbody tr th:only-of-type {\n",
       "        vertical-align: middle;\n",
       "    }\n",
       "\n",
       "    .dataframe tbody tr th {\n",
       "        vertical-align: top;\n",
       "    }\n",
       "\n",
       "    .dataframe thead th {\n",
       "        text-align: right;\n",
       "    }\n",
       "</style>\n",
       "<table border=\"1\" class=\"dataframe\">\n",
       "  <thead>\n",
       "    <tr style=\"text-align: right;\">\n",
       "      <th></th>\n",
       "      <th>year</th>\n",
       "      <th>brand</th>\n",
       "      <th>subject</th>\n",
       "    </tr>\n",
       "  </thead>\n",
       "  <tbody>\n",
       "    <tr>\n",
       "      <th>0</th>\n",
       "      <td>1971</td>\n",
       "      <td>Topps</td>\n",
       "      <td>Nolan Ryan</td>\n",
       "    </tr>\n",
       "    <tr>\n",
       "      <th>1</th>\n",
       "      <td>1928</td>\n",
       "      <td>Ogden</td>\n",
       "      <td>Don Bradman</td>\n",
       "    </tr>\n",
       "    <tr>\n",
       "      <th>2</th>\n",
       "      <td>1909</td>\n",
       "      <td>T206</td>\n",
       "      <td>Ty Cobb</td>\n",
       "    </tr>\n",
       "    <tr>\n",
       "      <th>3</th>\n",
       "      <td>1887</td>\n",
       "      <td>Lone</td>\n",
       "      <td>Jack Ben Franklin</td>\n",
       "    </tr>\n",
       "    <tr>\n",
       "      <th>4</th>\n",
       "      <td>2005</td>\n",
       "      <td>Topps</td>\n",
       "      <td>Justin Verlander</td>\n",
       "    </tr>\n",
       "  </tbody>\n",
       "</table>\n",
       "</div>"
      ],
      "text/plain": [
       "   year  brand            subject\n",
       "0  1971  Topps         Nolan Ryan\n",
       "1  1928  Ogden        Don Bradman\n",
       "2  1909   T206            Ty Cobb\n",
       "3  1887   Lone  Jack Ben Franklin\n",
       "4  2005  Topps   Justin Verlander"
      ]
     },
     "execution_count": 13,
     "metadata": {},
     "output_type": "execute_result"
    }
   ],
   "source": [
    "df['card'].str.split(' ',n=2 ,expand=True).rename(columns={0:'year', 1:'brand',2:'subject'})"
   ]
  },
  {
   "cell_type": "code",
   "execution_count": 14,
   "id": "13c6aa50",
   "metadata": {},
   "outputs": [],
   "source": [
    "#new columns"
   ]
  },
  {
   "cell_type": "code",
   "execution_count": 15,
   "id": "c01778bf",
   "metadata": {},
   "outputs": [
    {
     "data": {
      "text/html": [
       "<div>\n",
       "<style scoped>\n",
       "    .dataframe tbody tr th:only-of-type {\n",
       "        vertical-align: middle;\n",
       "    }\n",
       "\n",
       "    .dataframe tbody tr th {\n",
       "        vertical-align: top;\n",
       "    }\n",
       "\n",
       "    .dataframe thead th {\n",
       "        text-align: right;\n",
       "    }\n",
       "</style>\n",
       "<table border=\"1\" class=\"dataframe\">\n",
       "  <thead>\n",
       "    <tr style=\"text-align: right;\">\n",
       "      <th></th>\n",
       "      <th>card</th>\n",
       "    </tr>\n",
       "  </thead>\n",
       "  <tbody>\n",
       "    <tr>\n",
       "      <th>0</th>\n",
       "      <td>1971 Topps Nolan Ryan</td>\n",
       "    </tr>\n",
       "    <tr>\n",
       "      <th>1</th>\n",
       "      <td>1928 Ogden Don Bradman</td>\n",
       "    </tr>\n",
       "    <tr>\n",
       "      <th>2</th>\n",
       "      <td>1909 T206 Ty Cobb</td>\n",
       "    </tr>\n",
       "    <tr>\n",
       "      <th>3</th>\n",
       "      <td>1887 Lone Jack Ben Franklin</td>\n",
       "    </tr>\n",
       "    <tr>\n",
       "      <th>4</th>\n",
       "      <td>2005 Topps Justin Verlander</td>\n",
       "    </tr>\n",
       "  </tbody>\n",
       "</table>\n",
       "</div>"
      ],
      "text/plain": [
       "                          card\n",
       "0        1971 Topps Nolan Ryan\n",
       "1       1928 Ogden Don Bradman\n",
       "2            1909 T206 Ty Cobb\n",
       "3  1887 Lone Jack Ben Franklin\n",
       "4  2005 Topps Justin Verlander"
      ]
     },
     "execution_count": 15,
     "metadata": {},
     "output_type": "execute_result"
    }
   ],
   "source": [
    "df.head(5)"
   ]
  },
  {
   "cell_type": "code",
   "execution_count": 16,
   "id": "8bd7fd84",
   "metadata": {},
   "outputs": [
    {
     "data": {
      "text/html": [
       "<div>\n",
       "<style scoped>\n",
       "    .dataframe tbody tr th:only-of-type {\n",
       "        vertical-align: middle;\n",
       "    }\n",
       "\n",
       "    .dataframe tbody tr th {\n",
       "        vertical-align: top;\n",
       "    }\n",
       "\n",
       "    .dataframe thead th {\n",
       "        text-align: right;\n",
       "    }\n",
       "</style>\n",
       "<table border=\"1\" class=\"dataframe\">\n",
       "  <thead>\n",
       "    <tr style=\"text-align: right;\">\n",
       "      <th></th>\n",
       "      <th>card</th>\n",
       "      <th>year</th>\n",
       "      <th>brand</th>\n",
       "      <th>subject</th>\n",
       "    </tr>\n",
       "  </thead>\n",
       "  <tbody>\n",
       "    <tr>\n",
       "      <th>0</th>\n",
       "      <td>1971 Topps Nolan Ryan</td>\n",
       "      <td>1971</td>\n",
       "      <td>Topps</td>\n",
       "      <td>Nolan Ryan</td>\n",
       "    </tr>\n",
       "    <tr>\n",
       "      <th>1</th>\n",
       "      <td>1928 Ogden Don Bradman</td>\n",
       "      <td>1928</td>\n",
       "      <td>Ogden</td>\n",
       "      <td>Don Bradman</td>\n",
       "    </tr>\n",
       "    <tr>\n",
       "      <th>2</th>\n",
       "      <td>1909 T206 Ty Cobb</td>\n",
       "      <td>1909</td>\n",
       "      <td>T206</td>\n",
       "      <td>Ty Cobb</td>\n",
       "    </tr>\n",
       "    <tr>\n",
       "      <th>3</th>\n",
       "      <td>1887 Lone Jack Ben Franklin</td>\n",
       "      <td>1887</td>\n",
       "      <td>Lone</td>\n",
       "      <td>Jack Ben Franklin</td>\n",
       "    </tr>\n",
       "    <tr>\n",
       "      <th>4</th>\n",
       "      <td>2005 Topps Justin Verlander</td>\n",
       "      <td>2005</td>\n",
       "      <td>Topps</td>\n",
       "      <td>Justin Verlander</td>\n",
       "    </tr>\n",
       "  </tbody>\n",
       "</table>\n",
       "</div>"
      ],
      "text/plain": [
       "                          card  year  brand            subject\n",
       "0        1971 Topps Nolan Ryan  1971  Topps         Nolan Ryan\n",
       "1       1928 Ogden Don Bradman  1928  Ogden        Don Bradman\n",
       "2            1909 T206 Ty Cobb  1909   T206            Ty Cobb\n",
       "3  1887 Lone Jack Ben Franklin  1887   Lone  Jack Ben Franklin\n",
       "4  2005 Topps Justin Verlander  2005  Topps   Justin Verlander"
      ]
     },
     "execution_count": 16,
     "metadata": {},
     "output_type": "execute_result"
    }
   ],
   "source": [
    "df[['year','brand','subject']]= df['card'].str.split(' ',n=2 ,expand=True)\n",
    "df "
   ]
  },
  {
   "cell_type": "code",
   "execution_count": 17,
   "id": "58deb1eb",
   "metadata": {},
   "outputs": [],
   "source": [
    "# drop old column"
   ]
  },
  {
   "cell_type": "code",
   "execution_count": 19,
   "id": "fbed5f44",
   "metadata": {},
   "outputs": [
    {
     "data": {
      "text/html": [
       "<div>\n",
       "<style scoped>\n",
       "    .dataframe tbody tr th:only-of-type {\n",
       "        vertical-align: middle;\n",
       "    }\n",
       "\n",
       "    .dataframe tbody tr th {\n",
       "        vertical-align: top;\n",
       "    }\n",
       "\n",
       "    .dataframe thead th {\n",
       "        text-align: right;\n",
       "    }\n",
       "</style>\n",
       "<table border=\"1\" class=\"dataframe\">\n",
       "  <thead>\n",
       "    <tr style=\"text-align: right;\">\n",
       "      <th></th>\n",
       "      <th>year</th>\n",
       "      <th>brand</th>\n",
       "      <th>subject</th>\n",
       "    </tr>\n",
       "  </thead>\n",
       "  <tbody>\n",
       "    <tr>\n",
       "      <th>0</th>\n",
       "      <td>1971</td>\n",
       "      <td>Topps</td>\n",
       "      <td>Nolan Ryan</td>\n",
       "    </tr>\n",
       "    <tr>\n",
       "      <th>1</th>\n",
       "      <td>1928</td>\n",
       "      <td>Ogden</td>\n",
       "      <td>Don Bradman</td>\n",
       "    </tr>\n",
       "    <tr>\n",
       "      <th>2</th>\n",
       "      <td>1909</td>\n",
       "      <td>T206</td>\n",
       "      <td>Ty Cobb</td>\n",
       "    </tr>\n",
       "    <tr>\n",
       "      <th>3</th>\n",
       "      <td>1887</td>\n",
       "      <td>Lone</td>\n",
       "      <td>Jack Ben Franklin</td>\n",
       "    </tr>\n",
       "    <tr>\n",
       "      <th>4</th>\n",
       "      <td>2005</td>\n",
       "      <td>Topps</td>\n",
       "      <td>Justin Verlander</td>\n",
       "    </tr>\n",
       "  </tbody>\n",
       "</table>\n",
       "</div>"
      ],
      "text/plain": [
       "   year  brand            subject\n",
       "0  1971  Topps         Nolan Ryan\n",
       "1  1928  Ogden        Don Bradman\n",
       "2  1909   T206            Ty Cobb\n",
       "3  1887   Lone  Jack Ben Franklin\n",
       "4  2005  Topps   Justin Verlander"
      ]
     },
     "execution_count": 19,
     "metadata": {},
     "output_type": "execute_result"
    }
   ],
   "source": [
    "df.drop(columns=['card'])"
   ]
  },
  {
   "cell_type": "code",
   "execution_count": 18,
   "id": "8572a3e0",
   "metadata": {},
   "outputs": [
    {
     "data": {
      "text/html": [
       "<div>\n",
       "<style scoped>\n",
       "    .dataframe tbody tr th:only-of-type {\n",
       "        vertical-align: middle;\n",
       "    }\n",
       "\n",
       "    .dataframe tbody tr th {\n",
       "        vertical-align: top;\n",
       "    }\n",
       "\n",
       "    .dataframe thead th {\n",
       "        text-align: right;\n",
       "    }\n",
       "</style>\n",
       "<table border=\"1\" class=\"dataframe\">\n",
       "  <thead>\n",
       "    <tr style=\"text-align: right;\">\n",
       "      <th></th>\n",
       "      <th>year</th>\n",
       "      <th>brand</th>\n",
       "      <th>subject</th>\n",
       "    </tr>\n",
       "  </thead>\n",
       "  <tbody>\n",
       "    <tr>\n",
       "      <th>0</th>\n",
       "      <td>1971</td>\n",
       "      <td>Topps</td>\n",
       "      <td>Nolan Ryan</td>\n",
       "    </tr>\n",
       "    <tr>\n",
       "      <th>1</th>\n",
       "      <td>1928</td>\n",
       "      <td>Ogden</td>\n",
       "      <td>Don Bradman</td>\n",
       "    </tr>\n",
       "    <tr>\n",
       "      <th>2</th>\n",
       "      <td>1909</td>\n",
       "      <td>T206</td>\n",
       "      <td>Ty Cobb</td>\n",
       "    </tr>\n",
       "    <tr>\n",
       "      <th>3</th>\n",
       "      <td>1887</td>\n",
       "      <td>Lone</td>\n",
       "      <td>Jack Ben Franklin</td>\n",
       "    </tr>\n",
       "    <tr>\n",
       "      <th>4</th>\n",
       "      <td>2005</td>\n",
       "      <td>Topps</td>\n",
       "      <td>Justin Verlander</td>\n",
       "    </tr>\n",
       "  </tbody>\n",
       "</table>\n",
       "</div>"
      ],
      "text/plain": [
       "   year  brand            subject\n",
       "0  1971  Topps         Nolan Ryan\n",
       "1  1928  Ogden        Don Bradman\n",
       "2  1909   T206            Ty Cobb\n",
       "3  1887   Lone  Jack Ben Franklin\n",
       "4  2005  Topps   Justin Verlander"
      ]
     },
     "execution_count": 18,
     "metadata": {},
     "output_type": "execute_result"
    }
   ],
   "source": [
    "df2 = df.drop(columns=['card'])\n",
    "df2"
   ]
  },
  {
   "cell_type": "code",
   "execution_count": null,
   "id": "7ffc521a",
   "metadata": {},
   "outputs": [],
   "source": []
  },
  {
   "cell_type": "code",
   "execution_count": null,
   "id": "4ede9b10",
   "metadata": {},
   "outputs": [],
   "source": []
  },
  {
   "cell_type": "code",
   "execution_count": 23,
   "id": "343a9f52",
   "metadata": {},
   "outputs": [],
   "source": [
    "#Example Interview Style Question\n",
    "#Baseball Slashline --> AVG/OBP/SLG .300/.400./.500\n",
    "#Show each in new columns, you can keep Slashline"
   ]
  },
  {
   "cell_type": "code",
   "execution_count": 24,
   "id": "dd4a27b1",
   "metadata": {},
   "outputs": [],
   "source": [
    "#import dataframe"
   ]
  },
  {
   "cell_type": "code",
   "execution_count": 26,
   "id": "89906358",
   "metadata": {},
   "outputs": [
    {
     "data": {
      "text/html": [
       "<div>\n",
       "<style scoped>\n",
       "    .dataframe tbody tr th:only-of-type {\n",
       "        vertical-align: middle;\n",
       "    }\n",
       "\n",
       "    .dataframe tbody tr th {\n",
       "        vertical-align: top;\n",
       "    }\n",
       "\n",
       "    .dataframe thead th {\n",
       "        text-align: right;\n",
       "    }\n",
       "</style>\n",
       "<table border=\"1\" class=\"dataframe\">\n",
       "  <thead>\n",
       "    <tr style=\"text-align: right;\">\n",
       "      <th></th>\n",
       "      <th>Player</th>\n",
       "      <th>Slashline</th>\n",
       "    </tr>\n",
       "  </thead>\n",
       "  <tbody>\n",
       "    <tr>\n",
       "      <th>0</th>\n",
       "      <td>Mike Trout</td>\n",
       "      <td>.301/.412/.582</td>\n",
       "    </tr>\n",
       "    <tr>\n",
       "      <th>1</th>\n",
       "      <td>Mookie Betts</td>\n",
       "      <td>.291/.369/.522</td>\n",
       "    </tr>\n",
       "    <tr>\n",
       "      <th>2</th>\n",
       "      <td>Ted Williams</td>\n",
       "      <td>.344/.482/.634</td>\n",
       "    </tr>\n",
       "    <tr>\n",
       "      <th>3</th>\n",
       "      <td>Stan Musial</td>\n",
       "      <td>.331/.417/.559</td>\n",
       "    </tr>\n",
       "    <tr>\n",
       "      <th>4</th>\n",
       "      <td>Tris Speaker</td>\n",
       "      <td>.345/.428/.500</td>\n",
       "    </tr>\n",
       "  </tbody>\n",
       "</table>\n",
       "</div>"
      ],
      "text/plain": [
       "         Player       Slashline\n",
       "0    Mike Trout  .301/.412/.582\n",
       "1  Mookie Betts  .291/.369/.522\n",
       "2  Ted Williams  .344/.482/.634\n",
       "3   Stan Musial  .331/.417/.559\n",
       "4  Tris Speaker  .345/.428/.500"
      ]
     },
     "execution_count": 26,
     "metadata": {},
     "output_type": "execute_result"
    }
   ],
   "source": [
    "df3 = pd.DataFrame({\n",
    "                    'Player':['Mike Trout', 'Mookie Betts', 'Ted Williams', 'Stan Musial', 'Tris Speaker'],\n",
    "                    'Slashline': ['.301/.412/.582','.291/.369/.522','.344/.482/.634','.331/.417/.559','.345/.428/.500']\n",
    "})\n",
    "\n",
    "df3"
   ]
  },
  {
   "cell_type": "code",
   "execution_count": 27,
   "id": "15ff3746",
   "metadata": {},
   "outputs": [],
   "source": [
    "#split columns"
   ]
  },
  {
   "cell_type": "code",
   "execution_count": 28,
   "id": "ffbaf56f",
   "metadata": {},
   "outputs": [
    {
     "data": {
      "text/html": [
       "<div>\n",
       "<style scoped>\n",
       "    .dataframe tbody tr th:only-of-type {\n",
       "        vertical-align: middle;\n",
       "    }\n",
       "\n",
       "    .dataframe tbody tr th {\n",
       "        vertical-align: top;\n",
       "    }\n",
       "\n",
       "    .dataframe thead th {\n",
       "        text-align: right;\n",
       "    }\n",
       "</style>\n",
       "<table border=\"1\" class=\"dataframe\">\n",
       "  <thead>\n",
       "    <tr style=\"text-align: right;\">\n",
       "      <th></th>\n",
       "      <th>0</th>\n",
       "      <th>1</th>\n",
       "      <th>2</th>\n",
       "    </tr>\n",
       "  </thead>\n",
       "  <tbody>\n",
       "    <tr>\n",
       "      <th>0</th>\n",
       "      <td>.301</td>\n",
       "      <td>.412</td>\n",
       "      <td>.582</td>\n",
       "    </tr>\n",
       "    <tr>\n",
       "      <th>1</th>\n",
       "      <td>.291</td>\n",
       "      <td>.369</td>\n",
       "      <td>.522</td>\n",
       "    </tr>\n",
       "    <tr>\n",
       "      <th>2</th>\n",
       "      <td>.344</td>\n",
       "      <td>.482</td>\n",
       "      <td>.634</td>\n",
       "    </tr>\n",
       "    <tr>\n",
       "      <th>3</th>\n",
       "      <td>.331</td>\n",
       "      <td>.417</td>\n",
       "      <td>.559</td>\n",
       "    </tr>\n",
       "    <tr>\n",
       "      <th>4</th>\n",
       "      <td>.345</td>\n",
       "      <td>.428</td>\n",
       "      <td>.500</td>\n",
       "    </tr>\n",
       "  </tbody>\n",
       "</table>\n",
       "</div>"
      ],
      "text/plain": [
       "      0     1     2\n",
       "0  .301  .412  .582\n",
       "1  .291  .369  .522\n",
       "2  .344  .482  .634\n",
       "3  .331  .417  .559\n",
       "4  .345  .428  .500"
      ]
     },
     "execution_count": 28,
     "metadata": {},
     "output_type": "execute_result"
    }
   ],
   "source": [
    "df3['Slashline'].str.split('/',n=2, expand = True)"
   ]
  },
  {
   "cell_type": "code",
   "execution_count": 29,
   "id": "a5195b89",
   "metadata": {},
   "outputs": [
    {
     "data": {
      "text/html": [
       "<div>\n",
       "<style scoped>\n",
       "    .dataframe tbody tr th:only-of-type {\n",
       "        vertical-align: middle;\n",
       "    }\n",
       "\n",
       "    .dataframe tbody tr th {\n",
       "        vertical-align: top;\n",
       "    }\n",
       "\n",
       "    .dataframe thead th {\n",
       "        text-align: right;\n",
       "    }\n",
       "</style>\n",
       "<table border=\"1\" class=\"dataframe\">\n",
       "  <thead>\n",
       "    <tr style=\"text-align: right;\">\n",
       "      <th></th>\n",
       "      <th>Player</th>\n",
       "      <th>Slashline</th>\n",
       "      <th>AVG</th>\n",
       "      <th>OBP</th>\n",
       "      <th>SLG</th>\n",
       "    </tr>\n",
       "  </thead>\n",
       "  <tbody>\n",
       "    <tr>\n",
       "      <th>0</th>\n",
       "      <td>Mike Trout</td>\n",
       "      <td>.301/.412/.582</td>\n",
       "      <td>.301</td>\n",
       "      <td>.412</td>\n",
       "      <td>.582</td>\n",
       "    </tr>\n",
       "    <tr>\n",
       "      <th>1</th>\n",
       "      <td>Mookie Betts</td>\n",
       "      <td>.291/.369/.522</td>\n",
       "      <td>.291</td>\n",
       "      <td>.369</td>\n",
       "      <td>.522</td>\n",
       "    </tr>\n",
       "    <tr>\n",
       "      <th>2</th>\n",
       "      <td>Ted Williams</td>\n",
       "      <td>.344/.482/.634</td>\n",
       "      <td>.344</td>\n",
       "      <td>.482</td>\n",
       "      <td>.634</td>\n",
       "    </tr>\n",
       "    <tr>\n",
       "      <th>3</th>\n",
       "      <td>Stan Musial</td>\n",
       "      <td>.331/.417/.559</td>\n",
       "      <td>.331</td>\n",
       "      <td>.417</td>\n",
       "      <td>.559</td>\n",
       "    </tr>\n",
       "    <tr>\n",
       "      <th>4</th>\n",
       "      <td>Tris Speaker</td>\n",
       "      <td>.345/.428/.500</td>\n",
       "      <td>.345</td>\n",
       "      <td>.428</td>\n",
       "      <td>.500</td>\n",
       "    </tr>\n",
       "  </tbody>\n",
       "</table>\n",
       "</div>"
      ],
      "text/plain": [
       "         Player       Slashline   AVG   OBP   SLG\n",
       "0    Mike Trout  .301/.412/.582  .301  .412  .582\n",
       "1  Mookie Betts  .291/.369/.522  .291  .369  .522\n",
       "2  Ted Williams  .344/.482/.634  .344  .482  .634\n",
       "3   Stan Musial  .331/.417/.559  .331  .417  .559\n",
       "4  Tris Speaker  .345/.428/.500  .345  .428  .500"
      ]
     },
     "execution_count": 29,
     "metadata": {},
     "output_type": "execute_result"
    }
   ],
   "source": [
    "df3[['AVG','OBP','SLG']]= df3['Slashline'].str.split('/',n=2, expand = True)\n",
    "df3"
   ]
  },
  {
   "cell_type": "code",
   "execution_count": 30,
   "id": "f24f55ee",
   "metadata": {},
   "outputs": [
    {
     "data": {
      "text/html": [
       "<div>\n",
       "<style scoped>\n",
       "    .dataframe tbody tr th:only-of-type {\n",
       "        vertical-align: middle;\n",
       "    }\n",
       "\n",
       "    .dataframe tbody tr th {\n",
       "        vertical-align: top;\n",
       "    }\n",
       "\n",
       "    .dataframe thead th {\n",
       "        text-align: right;\n",
       "    }\n",
       "</style>\n",
       "<table border=\"1\" class=\"dataframe\">\n",
       "  <thead>\n",
       "    <tr style=\"text-align: right;\">\n",
       "      <th></th>\n",
       "      <th>Player</th>\n",
       "      <th>Slashline</th>\n",
       "      <th>AVG</th>\n",
       "      <th>OBP</th>\n",
       "      <th>SLG</th>\n",
       "    </tr>\n",
       "  </thead>\n",
       "  <tbody>\n",
       "    <tr>\n",
       "      <th>2</th>\n",
       "      <td>Ted Williams</td>\n",
       "      <td>.344/.482/.634</td>\n",
       "      <td>.344</td>\n",
       "      <td>.482</td>\n",
       "      <td>.634</td>\n",
       "    </tr>\n",
       "    <tr>\n",
       "      <th>4</th>\n",
       "      <td>Tris Speaker</td>\n",
       "      <td>.345/.428/.500</td>\n",
       "      <td>.345</td>\n",
       "      <td>.428</td>\n",
       "      <td>.500</td>\n",
       "    </tr>\n",
       "    <tr>\n",
       "      <th>3</th>\n",
       "      <td>Stan Musial</td>\n",
       "      <td>.331/.417/.559</td>\n",
       "      <td>.331</td>\n",
       "      <td>.417</td>\n",
       "      <td>.559</td>\n",
       "    </tr>\n",
       "    <tr>\n",
       "      <th>0</th>\n",
       "      <td>Mike Trout</td>\n",
       "      <td>.301/.412/.582</td>\n",
       "      <td>.301</td>\n",
       "      <td>.412</td>\n",
       "      <td>.582</td>\n",
       "    </tr>\n",
       "    <tr>\n",
       "      <th>1</th>\n",
       "      <td>Mookie Betts</td>\n",
       "      <td>.291/.369/.522</td>\n",
       "      <td>.291</td>\n",
       "      <td>.369</td>\n",
       "      <td>.522</td>\n",
       "    </tr>\n",
       "  </tbody>\n",
       "</table>\n",
       "</div>"
      ],
      "text/plain": [
       "         Player       Slashline   AVG   OBP   SLG\n",
       "2  Ted Williams  .344/.482/.634  .344  .482  .634\n",
       "4  Tris Speaker  .345/.428/.500  .345  .428  .500\n",
       "3   Stan Musial  .331/.417/.559  .331  .417  .559\n",
       "0    Mike Trout  .301/.412/.582  .301  .412  .582\n",
       "1  Mookie Betts  .291/.369/.522  .291  .369  .522"
      ]
     },
     "execution_count": 30,
     "metadata": {},
     "output_type": "execute_result"
    }
   ],
   "source": [
    "df3.sort_values('OBP', ascending = False)"
   ]
  },
  {
   "cell_type": "code",
   "execution_count": 31,
   "id": "e531aecd",
   "metadata": {},
   "outputs": [
    {
     "data": {
      "text/html": [
       "<div>\n",
       "<style scoped>\n",
       "    .dataframe tbody tr th:only-of-type {\n",
       "        vertical-align: middle;\n",
       "    }\n",
       "\n",
       "    .dataframe tbody tr th {\n",
       "        vertical-align: top;\n",
       "    }\n",
       "\n",
       "    .dataframe thead th {\n",
       "        text-align: right;\n",
       "    }\n",
       "</style>\n",
       "<table border=\"1\" class=\"dataframe\">\n",
       "  <thead>\n",
       "    <tr style=\"text-align: right;\">\n",
       "      <th></th>\n",
       "      <th>Player</th>\n",
       "      <th>Slashline</th>\n",
       "      <th>AVG</th>\n",
       "      <th>OBP</th>\n",
       "      <th>SLG</th>\n",
       "    </tr>\n",
       "  </thead>\n",
       "  <tbody>\n",
       "    <tr>\n",
       "      <th>2</th>\n",
       "      <td>Ted Williams</td>\n",
       "      <td>.344/.482/.634</td>\n",
       "      <td>.344</td>\n",
       "      <td>.482</td>\n",
       "      <td>.634</td>\n",
       "    </tr>\n",
       "    <tr>\n",
       "      <th>0</th>\n",
       "      <td>Mike Trout</td>\n",
       "      <td>.301/.412/.582</td>\n",
       "      <td>.301</td>\n",
       "      <td>.412</td>\n",
       "      <td>.582</td>\n",
       "    </tr>\n",
       "    <tr>\n",
       "      <th>3</th>\n",
       "      <td>Stan Musial</td>\n",
       "      <td>.331/.417/.559</td>\n",
       "      <td>.331</td>\n",
       "      <td>.417</td>\n",
       "      <td>.559</td>\n",
       "    </tr>\n",
       "    <tr>\n",
       "      <th>1</th>\n",
       "      <td>Mookie Betts</td>\n",
       "      <td>.291/.369/.522</td>\n",
       "      <td>.291</td>\n",
       "      <td>.369</td>\n",
       "      <td>.522</td>\n",
       "    </tr>\n",
       "    <tr>\n",
       "      <th>4</th>\n",
       "      <td>Tris Speaker</td>\n",
       "      <td>.345/.428/.500</td>\n",
       "      <td>.345</td>\n",
       "      <td>.428</td>\n",
       "      <td>.500</td>\n",
       "    </tr>\n",
       "  </tbody>\n",
       "</table>\n",
       "</div>"
      ],
      "text/plain": [
       "         Player       Slashline   AVG   OBP   SLG\n",
       "2  Ted Williams  .344/.482/.634  .344  .482  .634\n",
       "0    Mike Trout  .301/.412/.582  .301  .412  .582\n",
       "3   Stan Musial  .331/.417/.559  .331  .417  .559\n",
       "1  Mookie Betts  .291/.369/.522  .291  .369  .522\n",
       "4  Tris Speaker  .345/.428/.500  .345  .428  .500"
      ]
     },
     "execution_count": 31,
     "metadata": {},
     "output_type": "execute_result"
    }
   ],
   "source": [
    "df3.sort_values('SLG', ascending = False)"
   ]
  },
  {
   "cell_type": "code",
   "execution_count": null,
   "id": "a98a76b3",
   "metadata": {},
   "outputs": [],
   "source": []
  }
 ],
 "metadata": {
  "kernelspec": {
   "display_name": "Python 3 (ipykernel)",
   "language": "python",
   "name": "python3"
  },
  "language_info": {
   "codemirror_mode": {
    "name": "ipython",
    "version": 3
   },
   "file_extension": ".py",
   "mimetype": "text/x-python",
   "name": "python",
   "nbconvert_exporter": "python",
   "pygments_lexer": "ipython3",
   "version": "3.8.11"
  }
 },
 "nbformat": 4,
 "nbformat_minor": 5
}
