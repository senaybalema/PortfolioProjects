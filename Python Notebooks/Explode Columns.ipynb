{
 "cells": [
  {
   "cell_type": "code",
   "execution_count": 1,
   "id": "57c590e0",
   "metadata": {},
   "outputs": [],
   "source": [
    "#import libraries "
   ]
  },
  {
   "cell_type": "code",
   "execution_count": 2,
   "id": "9427f0dd",
   "metadata": {},
   "outputs": [],
   "source": [
    "import pandas as pd\n",
    "import numpy as np\n",
    "import seaborn as sns"
   ]
  },
  {
   "cell_type": "code",
   "execution_count": 3,
   "id": "fd4a561d",
   "metadata": {},
   "outputs": [
    {
     "data": {
      "text/html": [
       "<div>\n",
       "<style scoped>\n",
       "    .dataframe tbody tr th:only-of-type {\n",
       "        vertical-align: middle;\n",
       "    }\n",
       "\n",
       "    .dataframe tbody tr th {\n",
       "        vertical-align: top;\n",
       "    }\n",
       "\n",
       "    .dataframe thead th {\n",
       "        text-align: right;\n",
       "    }\n",
       "</style>\n",
       "<table border=\"1\" class=\"dataframe\">\n",
       "  <thead>\n",
       "    <tr style=\"text-align: right;\">\n",
       "      <th></th>\n",
       "      <th>card</th>\n",
       "      <th>properties</th>\n",
       "    </tr>\n",
       "  </thead>\n",
       "  <tbody>\n",
       "    <tr>\n",
       "      <th>0</th>\n",
       "      <td>1971 Nolan Ryan</td>\n",
       "      <td>[Baseball, Vintage, Pitcher]</td>\n",
       "    </tr>\n",
       "    <tr>\n",
       "      <th>1</th>\n",
       "      <td>1928 Ogden Don Bradman</td>\n",
       "      <td>[Cricket, Pre War]</td>\n",
       "    </tr>\n",
       "    <tr>\n",
       "      <th>2</th>\n",
       "      <td>1909 T206 Ty Cobb</td>\n",
       "      <td>[Baseball, Pre War, Batter]</td>\n",
       "    </tr>\n",
       "    <tr>\n",
       "      <th>3</th>\n",
       "      <td>1887 Lone Jack Ben Franklin</td>\n",
       "      <td>[Non Sports, Pre War]</td>\n",
       "    </tr>\n",
       "    <tr>\n",
       "      <th>4</th>\n",
       "      <td>2005 Topps Justin Verlander</td>\n",
       "      <td>[Baseball, Modern, Pitcher]</td>\n",
       "    </tr>\n",
       "  </tbody>\n",
       "</table>\n",
       "</div>"
      ],
      "text/plain": [
       "                          card                    properties\n",
       "0              1971 Nolan Ryan  [Baseball, Vintage, Pitcher]\n",
       "1       1928 Ogden Don Bradman            [Cricket, Pre War]\n",
       "2            1909 T206 Ty Cobb   [Baseball, Pre War, Batter]\n",
       "3  1887 Lone Jack Ben Franklin         [Non Sports, Pre War]\n",
       "4  2005 Topps Justin Verlander   [Baseball, Modern, Pitcher]"
      ]
     },
     "execution_count": 3,
     "metadata": {},
     "output_type": "execute_result"
    }
   ],
   "source": [
    "df= df = pd.DataFrame({  'card': ['1971 Nolan Ryan', '1928 Ogden Don Bradman', '1909 T206 Ty Cobb', '1887 Lone Jack Ben Franklin', '2005 Topps Justin Verlander'], \n",
    "    'properties': [['Baseball', 'Vintage', 'Pitcher'], ['Cricket', 'Pre War'], ['Baseball', 'Pre War', 'Batter'], ['Non Sports', 'Pre War'], ['Baseball', 'Modern', 'Pitcher']]            \n",
    "                  })\n",
    "df"
   ]
  },
  {
   "cell_type": "code",
   "execution_count": 4,
   "id": "448525b5",
   "metadata": {},
   "outputs": [],
   "source": [
    "#count type of pre war cards"
   ]
  },
  {
   "cell_type": "code",
   "execution_count": 5,
   "id": "439cf24a",
   "metadata": {},
   "outputs": [
    {
     "data": {
      "text/html": [
       "<div>\n",
       "<style scoped>\n",
       "    .dataframe tbody tr th:only-of-type {\n",
       "        vertical-align: middle;\n",
       "    }\n",
       "\n",
       "    .dataframe tbody tr th {\n",
       "        vertical-align: top;\n",
       "    }\n",
       "\n",
       "    .dataframe thead th {\n",
       "        text-align: right;\n",
       "    }\n",
       "</style>\n",
       "<table border=\"1\" class=\"dataframe\">\n",
       "  <thead>\n",
       "    <tr style=\"text-align: right;\">\n",
       "      <th></th>\n",
       "      <th>card</th>\n",
       "      <th>properties</th>\n",
       "    </tr>\n",
       "  </thead>\n",
       "  <tbody>\n",
       "    <tr>\n",
       "      <th>0</th>\n",
       "      <td>1971 Nolan Ryan</td>\n",
       "      <td>Baseball</td>\n",
       "    </tr>\n",
       "    <tr>\n",
       "      <th>0</th>\n",
       "      <td>1971 Nolan Ryan</td>\n",
       "      <td>Vintage</td>\n",
       "    </tr>\n",
       "    <tr>\n",
       "      <th>0</th>\n",
       "      <td>1971 Nolan Ryan</td>\n",
       "      <td>Pitcher</td>\n",
       "    </tr>\n",
       "    <tr>\n",
       "      <th>1</th>\n",
       "      <td>1928 Ogden Don Bradman</td>\n",
       "      <td>Cricket</td>\n",
       "    </tr>\n",
       "    <tr>\n",
       "      <th>1</th>\n",
       "      <td>1928 Ogden Don Bradman</td>\n",
       "      <td>Pre War</td>\n",
       "    </tr>\n",
       "    <tr>\n",
       "      <th>2</th>\n",
       "      <td>1909 T206 Ty Cobb</td>\n",
       "      <td>Baseball</td>\n",
       "    </tr>\n",
       "    <tr>\n",
       "      <th>2</th>\n",
       "      <td>1909 T206 Ty Cobb</td>\n",
       "      <td>Pre War</td>\n",
       "    </tr>\n",
       "    <tr>\n",
       "      <th>2</th>\n",
       "      <td>1909 T206 Ty Cobb</td>\n",
       "      <td>Batter</td>\n",
       "    </tr>\n",
       "    <tr>\n",
       "      <th>3</th>\n",
       "      <td>1887 Lone Jack Ben Franklin</td>\n",
       "      <td>Non Sports</td>\n",
       "    </tr>\n",
       "    <tr>\n",
       "      <th>3</th>\n",
       "      <td>1887 Lone Jack Ben Franklin</td>\n",
       "      <td>Pre War</td>\n",
       "    </tr>\n",
       "    <tr>\n",
       "      <th>4</th>\n",
       "      <td>2005 Topps Justin Verlander</td>\n",
       "      <td>Baseball</td>\n",
       "    </tr>\n",
       "    <tr>\n",
       "      <th>4</th>\n",
       "      <td>2005 Topps Justin Verlander</td>\n",
       "      <td>Modern</td>\n",
       "    </tr>\n",
       "    <tr>\n",
       "      <th>4</th>\n",
       "      <td>2005 Topps Justin Verlander</td>\n",
       "      <td>Pitcher</td>\n",
       "    </tr>\n",
       "  </tbody>\n",
       "</table>\n",
       "</div>"
      ],
      "text/plain": [
       "                          card  properties\n",
       "0              1971 Nolan Ryan    Baseball\n",
       "0              1971 Nolan Ryan     Vintage\n",
       "0              1971 Nolan Ryan     Pitcher\n",
       "1       1928 Ogden Don Bradman     Cricket\n",
       "1       1928 Ogden Don Bradman     Pre War\n",
       "2            1909 T206 Ty Cobb    Baseball\n",
       "2            1909 T206 Ty Cobb     Pre War\n",
       "2            1909 T206 Ty Cobb      Batter\n",
       "3  1887 Lone Jack Ben Franklin  Non Sports\n",
       "3  1887 Lone Jack Ben Franklin     Pre War\n",
       "4  2005 Topps Justin Verlander    Baseball\n",
       "4  2005 Topps Justin Verlander      Modern\n",
       "4  2005 Topps Justin Verlander     Pitcher"
      ]
     },
     "execution_count": 5,
     "metadata": {},
     "output_type": "execute_result"
    }
   ],
   "source": [
    "df.explode('properties')"
   ]
  },
  {
   "cell_type": "code",
   "execution_count": 6,
   "id": "112759ca",
   "metadata": {},
   "outputs": [],
   "source": [
    "df = df.explode('properties')"
   ]
  },
  {
   "cell_type": "code",
   "execution_count": 7,
   "id": "16505e78",
   "metadata": {},
   "outputs": [
    {
     "data": {
      "text/html": [
       "<div>\n",
       "<style scoped>\n",
       "    .dataframe tbody tr th:only-of-type {\n",
       "        vertical-align: middle;\n",
       "    }\n",
       "\n",
       "    .dataframe tbody tr th {\n",
       "        vertical-align: top;\n",
       "    }\n",
       "\n",
       "    .dataframe thead th {\n",
       "        text-align: right;\n",
       "    }\n",
       "</style>\n",
       "<table border=\"1\" class=\"dataframe\">\n",
       "  <thead>\n",
       "    <tr style=\"text-align: right;\">\n",
       "      <th></th>\n",
       "      <th>card</th>\n",
       "      <th>properties</th>\n",
       "    </tr>\n",
       "  </thead>\n",
       "  <tbody>\n",
       "    <tr>\n",
       "      <th>0</th>\n",
       "      <td>1971 Nolan Ryan</td>\n",
       "      <td>Baseball</td>\n",
       "    </tr>\n",
       "    <tr>\n",
       "      <th>0</th>\n",
       "      <td>1971 Nolan Ryan</td>\n",
       "      <td>Vintage</td>\n",
       "    </tr>\n",
       "    <tr>\n",
       "      <th>0</th>\n",
       "      <td>1971 Nolan Ryan</td>\n",
       "      <td>Pitcher</td>\n",
       "    </tr>\n",
       "    <tr>\n",
       "      <th>1</th>\n",
       "      <td>1928 Ogden Don Bradman</td>\n",
       "      <td>Cricket</td>\n",
       "    </tr>\n",
       "    <tr>\n",
       "      <th>1</th>\n",
       "      <td>1928 Ogden Don Bradman</td>\n",
       "      <td>Pre War</td>\n",
       "    </tr>\n",
       "    <tr>\n",
       "      <th>2</th>\n",
       "      <td>1909 T206 Ty Cobb</td>\n",
       "      <td>Baseball</td>\n",
       "    </tr>\n",
       "    <tr>\n",
       "      <th>2</th>\n",
       "      <td>1909 T206 Ty Cobb</td>\n",
       "      <td>Pre War</td>\n",
       "    </tr>\n",
       "    <tr>\n",
       "      <th>2</th>\n",
       "      <td>1909 T206 Ty Cobb</td>\n",
       "      <td>Batter</td>\n",
       "    </tr>\n",
       "    <tr>\n",
       "      <th>3</th>\n",
       "      <td>1887 Lone Jack Ben Franklin</td>\n",
       "      <td>Non Sports</td>\n",
       "    </tr>\n",
       "    <tr>\n",
       "      <th>3</th>\n",
       "      <td>1887 Lone Jack Ben Franklin</td>\n",
       "      <td>Pre War</td>\n",
       "    </tr>\n",
       "    <tr>\n",
       "      <th>4</th>\n",
       "      <td>2005 Topps Justin Verlander</td>\n",
       "      <td>Baseball</td>\n",
       "    </tr>\n",
       "    <tr>\n",
       "      <th>4</th>\n",
       "      <td>2005 Topps Justin Verlander</td>\n",
       "      <td>Modern</td>\n",
       "    </tr>\n",
       "    <tr>\n",
       "      <th>4</th>\n",
       "      <td>2005 Topps Justin Verlander</td>\n",
       "      <td>Pitcher</td>\n",
       "    </tr>\n",
       "  </tbody>\n",
       "</table>\n",
       "</div>"
      ],
      "text/plain": [
       "                          card  properties\n",
       "0              1971 Nolan Ryan    Baseball\n",
       "0              1971 Nolan Ryan     Vintage\n",
       "0              1971 Nolan Ryan     Pitcher\n",
       "1       1928 Ogden Don Bradman     Cricket\n",
       "1       1928 Ogden Don Bradman     Pre War\n",
       "2            1909 T206 Ty Cobb    Baseball\n",
       "2            1909 T206 Ty Cobb     Pre War\n",
       "2            1909 T206 Ty Cobb      Batter\n",
       "3  1887 Lone Jack Ben Franklin  Non Sports\n",
       "3  1887 Lone Jack Ben Franklin     Pre War\n",
       "4  2005 Topps Justin Verlander    Baseball\n",
       "4  2005 Topps Justin Verlander      Modern\n",
       "4  2005 Topps Justin Verlander     Pitcher"
      ]
     },
     "execution_count": 7,
     "metadata": {},
     "output_type": "execute_result"
    }
   ],
   "source": [
    "df"
   ]
  },
  {
   "cell_type": "code",
   "execution_count": 8,
   "id": "490b636f",
   "metadata": {},
   "outputs": [],
   "source": [
    "# count type of pre war counts"
   ]
  },
  {
   "cell_type": "code",
   "execution_count": 9,
   "id": "6eebb8fa",
   "metadata": {},
   "outputs": [
    {
     "data": {
      "text/plain": [
       "Baseball      3\n",
       "Pre War       3\n",
       "Pitcher       2\n",
       "Vintage       1\n",
       "Cricket       1\n",
       "Batter        1\n",
       "Non Sports    1\n",
       "Modern        1\n",
       "Name: properties, dtype: int64"
      ]
     },
     "execution_count": 9,
     "metadata": {},
     "output_type": "execute_result"
    }
   ],
   "source": [
    "df['properties'].value_counts()"
   ]
  },
  {
   "cell_type": "code",
   "execution_count": 10,
   "id": "adb122a4",
   "metadata": {},
   "outputs": [
    {
     "data": {
      "text/plain": [
       "3"
      ]
     },
     "execution_count": 10,
     "metadata": {},
     "output_type": "execute_result"
    }
   ],
   "source": [
    "df['properties'].value_counts()['Pre War']"
   ]
  },
  {
   "cell_type": "code",
   "execution_count": 11,
   "id": "fdaaaf57",
   "metadata": {},
   "outputs": [
    {
     "data": {
      "text/html": [
       "<div>\n",
       "<style scoped>\n",
       "    .dataframe tbody tr th:only-of-type {\n",
       "        vertical-align: middle;\n",
       "    }\n",
       "\n",
       "    .dataframe tbody tr th {\n",
       "        vertical-align: top;\n",
       "    }\n",
       "\n",
       "    .dataframe thead th {\n",
       "        text-align: right;\n",
       "    }\n",
       "</style>\n",
       "<table border=\"1\" class=\"dataframe\">\n",
       "  <thead>\n",
       "    <tr style=\"text-align: right;\">\n",
       "      <th></th>\n",
       "      <th>card</th>\n",
       "      <th>properties</th>\n",
       "    </tr>\n",
       "  </thead>\n",
       "  <tbody>\n",
       "    <tr>\n",
       "      <th>0</th>\n",
       "      <td>1971 Nolan Ryan</td>\n",
       "      <td>Baseball</td>\n",
       "    </tr>\n",
       "    <tr>\n",
       "      <th>2</th>\n",
       "      <td>1909 T206 Ty Cobb</td>\n",
       "      <td>Baseball</td>\n",
       "    </tr>\n",
       "    <tr>\n",
       "      <th>4</th>\n",
       "      <td>2005 Topps Justin Verlander</td>\n",
       "      <td>Baseball</td>\n",
       "    </tr>\n",
       "  </tbody>\n",
       "</table>\n",
       "</div>"
      ],
      "text/plain": [
       "                          card properties\n",
       "0              1971 Nolan Ryan   Baseball\n",
       "2            1909 T206 Ty Cobb   Baseball\n",
       "4  2005 Topps Justin Verlander   Baseball"
      ]
     },
     "execution_count": 11,
     "metadata": {},
     "output_type": "execute_result"
    }
   ],
   "source": [
    "df.query('properties == \"Baseball\"')"
   ]
  },
  {
   "cell_type": "code",
   "execution_count": null,
   "id": "3a253e6a",
   "metadata": {},
   "outputs": [],
   "source": [
    "df2.pivot_table(index='properties', values='card', aggfunc='size').reset_index().rename(columns={'card': 'card_count'}).sort_values('card_count', ascending=False)"
   ]
  },
  {
   "cell_type": "code",
   "execution_count": 17,
   "id": "4a650c47",
   "metadata": {},
   "outputs": [
    {
     "data": {
      "text/html": [
       "<div>\n",
       "<style scoped>\n",
       "    .dataframe tbody tr th:only-of-type {\n",
       "        vertical-align: middle;\n",
       "    }\n",
       "\n",
       "    .dataframe tbody tr th {\n",
       "        vertical-align: top;\n",
       "    }\n",
       "\n",
       "    .dataframe thead th {\n",
       "        text-align: right;\n",
       "    }\n",
       "</style>\n",
       "<table border=\"1\" class=\"dataframe\">\n",
       "  <thead>\n",
       "    <tr style=\"text-align: right;\">\n",
       "      <th></th>\n",
       "      <th>properties</th>\n",
       "      <th>card_count</th>\n",
       "    </tr>\n",
       "  </thead>\n",
       "  <tbody>\n",
       "    <tr>\n",
       "      <th>0</th>\n",
       "      <td>Baseball</td>\n",
       "      <td>3</td>\n",
       "    </tr>\n",
       "    <tr>\n",
       "      <th>6</th>\n",
       "      <td>Pre War</td>\n",
       "      <td>3</td>\n",
       "    </tr>\n",
       "    <tr>\n",
       "      <th>5</th>\n",
       "      <td>Pitcher</td>\n",
       "      <td>2</td>\n",
       "    </tr>\n",
       "    <tr>\n",
       "      <th>1</th>\n",
       "      <td>Batter</td>\n",
       "      <td>1</td>\n",
       "    </tr>\n",
       "    <tr>\n",
       "      <th>2</th>\n",
       "      <td>Cricket</td>\n",
       "      <td>1</td>\n",
       "    </tr>\n",
       "    <tr>\n",
       "      <th>3</th>\n",
       "      <td>Modern</td>\n",
       "      <td>1</td>\n",
       "    </tr>\n",
       "    <tr>\n",
       "      <th>4</th>\n",
       "      <td>Non Sports</td>\n",
       "      <td>1</td>\n",
       "    </tr>\n",
       "    <tr>\n",
       "      <th>7</th>\n",
       "      <td>Vintage</td>\n",
       "      <td>1</td>\n",
       "    </tr>\n",
       "  </tbody>\n",
       "</table>\n",
       "</div>"
      ],
      "text/plain": [
       "   properties  card_count\n",
       "0    Baseball           3\n",
       "6     Pre War           3\n",
       "5     Pitcher           2\n",
       "1      Batter           1\n",
       "2     Cricket           1\n",
       "3      Modern           1\n",
       "4  Non Sports           1\n",
       "7     Vintage           1"
      ]
     },
     "execution_count": 17,
     "metadata": {},
     "output_type": "execute_result"
    }
   ],
   "source": [
    "pivot_df = df.pivot_table(index='properties', values='card', aggfunc='count').reset_index().rename(columns={'card': 'card_count'}).sort_values('card_count', ascending=False)\n",
    "pivot_df"
   ]
  },
  {
   "cell_type": "markdown",
   "id": "c60750ff",
   "metadata": {},
   "source": [
    "import pandas as pd\n",
    "\n",
    "# Given DataFrame\n",
    "df = pd.DataFrame({  \n",
    "    'card': ['1971 Nolan Ryan', '1928 Ogden Don Bradman', '1909 T206 Ty Cobb', '1887 Lone Jack Ben Franklin', '2005 Topps Justin Verlander'], \n",
    "    'properties': [['Baseball', 'Vintage', 'Pitcher'], ['Cricket', 'Pre War'], ['Baseball', 'Pre War', 'Batter'], ['Non Sports', 'Pre War'], ['Baseball', 'Modern', 'Pitcher']]            \n",
    "})\n",
    "\n",
    "# Explode the 'properties' column\n",
    "df_exploded = df.explode('properties')\n",
    "\n",
    "# Perform pivot_table to count occurrences of 'card' for each 'properties'\n",
    "pivot_df = df_exploded.pivot_table(index='properties', values='card', aggfunc='size').reset_index()\n",
    "\n",
    "# Rename the columns\n",
    "pivot_df = pivot_df.rename(columns={'card': 'card_count'})\n",
    "\n",
    "# Sort the DataFrame by 'card_count' in descending order\n",
    "pivot_df_sorted = pivot_df.sort_values('card_count', ascending=False)\n",
    "\n",
    "print(pivot_df_sorted)\n",
    "\n",
    "\n",
    "   properties  card_count\n",
    "0    Baseball           3\n",
    "2    Pre War            3\n",
    "1  Pitcher            2\n",
    "3  Vintage            1\n",
    "4  Batter             1\n",
    "5  Cricket            1\n",
    "6  Modern             1\n",
    "7  Non Sports         1\n"
   ]
  },
  {
   "cell_type": "code",
   "execution_count": null,
   "id": "86edb327",
   "metadata": {},
   "outputs": [],
   "source": []
  },
  {
   "cell_type": "code",
   "execution_count": null,
   "id": "e2edafc7",
   "metadata": {},
   "outputs": [],
   "source": []
  },
  {
   "cell_type": "code",
   "execution_count": null,
   "id": "e796459e",
   "metadata": {},
   "outputs": [],
   "source": []
  },
  {
   "cell_type": "code",
   "execution_count": null,
   "id": "bad33aba",
   "metadata": {},
   "outputs": [],
   "source": []
  },
  {
   "cell_type": "code",
   "execution_count": null,
   "id": "14b2c99a",
   "metadata": {},
   "outputs": [],
   "source": []
  },
  {
   "cell_type": "code",
   "execution_count": null,
   "id": "1fde6d14",
   "metadata": {},
   "outputs": [],
   "source": []
  },
  {
   "cell_type": "code",
   "execution_count": null,
   "id": "456cad20",
   "metadata": {},
   "outputs": [],
   "source": []
  },
  {
   "cell_type": "code",
   "execution_count": null,
   "id": "0cbfa013",
   "metadata": {},
   "outputs": [],
   "source": []
  },
  {
   "cell_type": "code",
   "execution_count": null,
   "id": "2142470d",
   "metadata": {},
   "outputs": [],
   "source": []
  },
  {
   "cell_type": "code",
   "execution_count": null,
   "id": "2c4d1ad1",
   "metadata": {},
   "outputs": [],
   "source": []
  }
 ],
 "metadata": {
  "kernelspec": {
   "display_name": "Python 3 (ipykernel)",
   "language": "python",
   "name": "python3"
  },
  "language_info": {
   "codemirror_mode": {
    "name": "ipython",
    "version": 3
   },
   "file_extension": ".py",
   "mimetype": "text/x-python",
   "name": "python",
   "nbconvert_exporter": "python",
   "pygments_lexer": "ipython3",
   "version": "3.8.11"
  }
 },
 "nbformat": 4,
 "nbformat_minor": 5
}
