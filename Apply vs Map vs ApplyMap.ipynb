{
 "cells": [
  {
   "cell_type": "code",
   "execution_count": 1,
   "id": "34aa829d",
   "metadata": {},
   "outputs": [],
   "source": [
    "# import libraries"
   ]
  },
  {
   "cell_type": "code",
   "execution_count": 2,
   "id": "d42a7a61",
   "metadata": {},
   "outputs": [],
   "source": [
    "import pandas as pd\n",
    "import numpy as np\n",
    "import seaborn as sns"
   ]
  },
  {
   "cell_type": "code",
   "execution_count": 3,
   "id": "e512c75f",
   "metadata": {},
   "outputs": [
    {
     "data": {
      "text/html": [
       "<div>\n",
       "<style scoped>\n",
       "    .dataframe tbody tr th:only-of-type {\n",
       "        vertical-align: middle;\n",
       "    }\n",
       "\n",
       "    .dataframe tbody tr th {\n",
       "        vertical-align: top;\n",
       "    }\n",
       "\n",
       "    .dataframe thead th {\n",
       "        text-align: right;\n",
       "    }\n",
       "</style>\n",
       "<table border=\"1\" class=\"dataframe\">\n",
       "  <thead>\n",
       "    <tr style=\"text-align: right;\">\n",
       "      <th></th>\n",
       "      <th>Job ID</th>\n",
       "      <th>Civil Service Title</th>\n",
       "      <th>Agency</th>\n",
       "      <th>Posting Type</th>\n",
       "      <th>Job Category</th>\n",
       "      <th>Salary Range From</th>\n",
       "      <th>Salary Range To</th>\n",
       "    </tr>\n",
       "  </thead>\n",
       "  <tbody>\n",
       "    <tr>\n",
       "      <th>0</th>\n",
       "      <td>424339</td>\n",
       "      <td>PUBLIC HEALTH NURSE</td>\n",
       "      <td>DEPT OF HEALTH/MENTAL HYGIENE</td>\n",
       "      <td>External</td>\n",
       "      <td>Health</td>\n",
       "      <td>84252.0</td>\n",
       "      <td>84252.0</td>\n",
       "    </tr>\n",
       "    <tr>\n",
       "      <th>1</th>\n",
       "      <td>379094</td>\n",
       "      <td>CERT IT DEVELOPER (APP)</td>\n",
       "      <td>NYC EMPLOYEES RETIREMENT SYS</td>\n",
       "      <td>External</td>\n",
       "      <td>NaN</td>\n",
       "      <td>82884.0</td>\n",
       "      <td>116391.0</td>\n",
       "    </tr>\n",
       "    <tr>\n",
       "      <th>2</th>\n",
       "      <td>520417</td>\n",
       "      <td>EXECUTIVE AGENCY COUNSEL</td>\n",
       "      <td>NYC HOUSING AUTHORITY</td>\n",
       "      <td>External</td>\n",
       "      <td>Legal Affairs</td>\n",
       "      <td>105000.0</td>\n",
       "      <td>125000.0</td>\n",
       "    </tr>\n",
       "    <tr>\n",
       "      <th>3</th>\n",
       "      <td>233549</td>\n",
       "      <td>CERTIFIED IT ADMINISTRATOR (LA</td>\n",
       "      <td>NYC EMPLOYEES RETIREMENT SYS</td>\n",
       "      <td>External</td>\n",
       "      <td>Information Technology &amp; Telecommunications</td>\n",
       "      <td>87203.0</td>\n",
       "      <td>131623.0</td>\n",
       "    </tr>\n",
       "    <tr>\n",
       "      <th>4</th>\n",
       "      <td>510256</td>\n",
       "      <td>ASSOCIATE HUMAN RIGHTS SPECIAL</td>\n",
       "      <td>HUMAN RIGHTS COMMISSION</td>\n",
       "      <td>External</td>\n",
       "      <td>Constituent Services &amp; Community Programs</td>\n",
       "      <td>58449.0</td>\n",
       "      <td>67216.0</td>\n",
       "    </tr>\n",
       "  </tbody>\n",
       "</table>\n",
       "</div>"
      ],
      "text/plain": [
       "   Job ID             Civil Service Title                         Agency  \\\n",
       "0  424339             PUBLIC HEALTH NURSE  DEPT OF HEALTH/MENTAL HYGIENE   \n",
       "1  379094         CERT IT DEVELOPER (APP)   NYC EMPLOYEES RETIREMENT SYS   \n",
       "2  520417        EXECUTIVE AGENCY COUNSEL          NYC HOUSING AUTHORITY   \n",
       "3  233549  CERTIFIED IT ADMINISTRATOR (LA   NYC EMPLOYEES RETIREMENT SYS   \n",
       "4  510256  ASSOCIATE HUMAN RIGHTS SPECIAL        HUMAN RIGHTS COMMISSION   \n",
       "\n",
       "  Posting Type                                 Job Category  \\\n",
       "0     External                                       Health   \n",
       "1     External                                          NaN   \n",
       "2     External                                Legal Affairs   \n",
       "3     External  Information Technology & Telecommunications   \n",
       "4     External    Constituent Services & Community Programs   \n",
       "\n",
       "   Salary Range From  Salary Range To  \n",
       "0            84252.0          84252.0  \n",
       "1            82884.0         116391.0  \n",
       "2           105000.0         125000.0  \n",
       "3            87203.0         131623.0  \n",
       "4            58449.0          67216.0  "
      ]
     },
     "execution_count": 3,
     "metadata": {},
     "output_type": "execute_result"
    }
   ],
   "source": [
    "data = pd.read_csv(r\"C:\\Users\\senay\\Desktop\\Misra Turp\\NYC_Jobs.csv\")\n",
    "data.head()"
   ]
  },
  {
   "cell_type": "code",
   "execution_count": 4,
   "id": "9ed8c843",
   "metadata": {},
   "outputs": [
    {
     "data": {
      "text/plain": [
       "Index(['Job ID', 'Civil Service Title', 'Agency', 'Posting Type',\n",
       "       'Job Category', 'Salary Range From', 'Salary Range To'],\n",
       "      dtype='object')"
      ]
     },
     "execution_count": 4,
     "metadata": {},
     "output_type": "execute_result"
    }
   ],
   "source": [
    "data.columns"
   ]
  },
  {
   "cell_type": "code",
   "execution_count": 5,
   "id": "73ac5413",
   "metadata": {},
   "outputs": [
    {
     "name": "stdout",
     "output_type": "stream",
     "text": [
      "<class 'pandas.core.frame.DataFrame'>\n",
      "RangeIndex: 3773 entries, 0 to 3772\n",
      "Data columns (total 7 columns):\n",
      " #   Column               Non-Null Count  Dtype  \n",
      "---  ------               --------------  -----  \n",
      " 0   Job ID               3773 non-null   int64  \n",
      " 1   Civil Service Title  3773 non-null   object \n",
      " 2   Agency               3773 non-null   object \n",
      " 3   Posting Type         3773 non-null   object \n",
      " 4   Job Category         3770 non-null   object \n",
      " 5   Salary Range From    3773 non-null   float64\n",
      " 6   Salary Range To      3773 non-null   float64\n",
      "dtypes: float64(2), int64(1), object(4)\n",
      "memory usage: 206.5+ KB\n"
     ]
    }
   ],
   "source": [
    "data.info()"
   ]
  },
  {
   "cell_type": "code",
   "execution_count": 6,
   "id": "8ef34d6c",
   "metadata": {},
   "outputs": [
    {
     "data": {
      "text/html": [
       "<div>\n",
       "<style scoped>\n",
       "    .dataframe tbody tr th:only-of-type {\n",
       "        vertical-align: middle;\n",
       "    }\n",
       "\n",
       "    .dataframe tbody tr th {\n",
       "        vertical-align: top;\n",
       "    }\n",
       "\n",
       "    .dataframe thead th {\n",
       "        text-align: right;\n",
       "    }\n",
       "</style>\n",
       "<table border=\"1\" class=\"dataframe\">\n",
       "  <thead>\n",
       "    <tr style=\"text-align: right;\">\n",
       "      <th></th>\n",
       "      <th>Job ID</th>\n",
       "      <th>Salary Range From</th>\n",
       "      <th>Salary Range To</th>\n",
       "    </tr>\n",
       "  </thead>\n",
       "  <tbody>\n",
       "    <tr>\n",
       "      <th>count</th>\n",
       "      <td>3773.000000</td>\n",
       "      <td>3773.000000</td>\n",
       "      <td>3773.000000</td>\n",
       "    </tr>\n",
       "    <tr>\n",
       "      <th>mean</th>\n",
       "      <td>500493.408693</td>\n",
       "      <td>57657.939466</td>\n",
       "      <td>79660.249595</td>\n",
       "    </tr>\n",
       "    <tr>\n",
       "      <th>std</th>\n",
       "      <td>48518.942211</td>\n",
       "      <td>36629.729583</td>\n",
       "      <td>51101.248638</td>\n",
       "    </tr>\n",
       "    <tr>\n",
       "      <th>min</th>\n",
       "      <td>87990.000000</td>\n",
       "      <td>0.000000</td>\n",
       "      <td>15.000000</td>\n",
       "    </tr>\n",
       "    <tr>\n",
       "      <th>25%</th>\n",
       "      <td>496634.000000</td>\n",
       "      <td>40017.000000</td>\n",
       "      <td>54228.000000</td>\n",
       "    </tr>\n",
       "    <tr>\n",
       "      <th>50%</th>\n",
       "      <td>518535.000000</td>\n",
       "      <td>58700.000000</td>\n",
       "      <td>80000.000000</td>\n",
       "    </tr>\n",
       "    <tr>\n",
       "      <th>75%</th>\n",
       "      <td>524405.000000</td>\n",
       "      <td>75000.000000</td>\n",
       "      <td>109409.000000</td>\n",
       "    </tr>\n",
       "    <tr>\n",
       "      <th>max</th>\n",
       "      <td>528532.000000</td>\n",
       "      <td>250000.000000</td>\n",
       "      <td>265000.000000</td>\n",
       "    </tr>\n",
       "  </tbody>\n",
       "</table>\n",
       "</div>"
      ],
      "text/plain": [
       "              Job ID  Salary Range From  Salary Range To\n",
       "count    3773.000000        3773.000000      3773.000000\n",
       "mean   500493.408693       57657.939466     79660.249595\n",
       "std     48518.942211       36629.729583     51101.248638\n",
       "min     87990.000000           0.000000        15.000000\n",
       "25%    496634.000000       40017.000000     54228.000000\n",
       "50%    518535.000000       58700.000000     80000.000000\n",
       "75%    524405.000000       75000.000000    109409.000000\n",
       "max    528532.000000      250000.000000    265000.000000"
      ]
     },
     "execution_count": 6,
     "metadata": {},
     "output_type": "execute_result"
    }
   ],
   "source": [
    "data.describe()"
   ]
  },
  {
   "cell_type": "code",
   "execution_count": 7,
   "id": "6a752777",
   "metadata": {},
   "outputs": [
    {
     "data": {
      "text/plain": [
       "(3773, 7)"
      ]
     },
     "execution_count": 7,
     "metadata": {},
     "output_type": "execute_result"
    }
   ],
   "source": [
    "data.shape"
   ]
  },
  {
   "cell_type": "markdown",
   "id": "8141386c",
   "metadata": {},
   "source": [
    "# apply"
   ]
  },
  {
   "cell_type": "code",
   "execution_count": 8,
   "id": "54ec5c5b",
   "metadata": {},
   "outputs": [],
   "source": [
    "def captitalize(title): \n",
    "    title_lower = title.lower()\n",
    "    title_final = title_lower.capitalize()\n",
    "    return title_final \n",
    "\n"
   ]
  },
  {
   "cell_type": "code",
   "execution_count": 9,
   "id": "7631d985",
   "metadata": {},
   "outputs": [
    {
     "data": {
      "text/plain": [
       "0                  Public health nurse\n",
       "1              Cert it developer (app)\n",
       "2             Executive agency counsel\n",
       "3       Certified it administrator (la\n",
       "4       Associate human rights special\n",
       "                     ...              \n",
       "3768    Certified it administrator (la\n",
       "3769     Associate housing development\n",
       "3770               Senior it architect\n",
       "3771                         Economist\n",
       "3772           Agency attorney interne\n",
       "Name: Civil Service Title, Length: 3773, dtype: object"
      ]
     },
     "execution_count": 9,
     "metadata": {},
     "output_type": "execute_result"
    }
   ],
   "source": [
    "data['Civil Service Title'].apply(captitalize)"
   ]
  },
  {
   "cell_type": "code",
   "execution_count": 10,
   "id": "a2ee7589",
   "metadata": {},
   "outputs": [
    {
     "data": {
      "text/plain": [
       "0                  Public health nurse\n",
       "1              Cert it developer (app)\n",
       "2             Executive agency counsel\n",
       "3       Certified it administrator (la\n",
       "4       Associate human rights special\n",
       "                     ...              \n",
       "3768    Certified it administrator (la\n",
       "3769     Associate housing development\n",
       "3770               Senior it architect\n",
       "3771                         Economist\n",
       "3772           Agency attorney interne\n",
       "Name: Civil Service Title, Length: 3773, dtype: object"
      ]
     },
     "execution_count": 10,
     "metadata": {},
     "output_type": "execute_result"
    }
   ],
   "source": [
    "data['Civil Service Title'].apply(lambda x: x.lower().capitalize())"
   ]
  },
  {
   "cell_type": "code",
   "execution_count": 11,
   "id": "1d987c70",
   "metadata": {},
   "outputs": [
    {
     "data": {
      "text/plain": [
       "0                  Public health nurse\n",
       "1              Cert it developer (app)\n",
       "2             Executive agency counsel\n",
       "3       Certified it administrator (la\n",
       "4       Associate human rights special\n",
       "                     ...              \n",
       "3768    Certified it administrator (la\n",
       "3769     Associate housing development\n",
       "3770               Senior it architect\n",
       "3771                         Economist\n",
       "3772           Agency attorney interne\n",
       "Length: 3773, dtype: object"
      ]
     },
     "execution_count": 11,
     "metadata": {},
     "output_type": "execute_result"
    }
   ],
   "source": [
    "data.apply(lambda x: x['Civil Service Title'].lower().capitalize(), axis=1)"
   ]
  },
  {
   "cell_type": "code",
   "execution_count": null,
   "id": "6095fff5",
   "metadata": {},
   "outputs": [],
   "source": []
  },
  {
   "cell_type": "markdown",
   "id": "1bc1be5d",
   "metadata": {},
   "source": [
    "# map"
   ]
  },
  {
   "cell_type": "code",
   "execution_count": 12,
   "id": "09cce845",
   "metadata": {},
   "outputs": [
    {
     "data": {
      "text/html": [
       "<div>\n",
       "<style scoped>\n",
       "    .dataframe tbody tr th:only-of-type {\n",
       "        vertical-align: middle;\n",
       "    }\n",
       "\n",
       "    .dataframe tbody tr th {\n",
       "        vertical-align: top;\n",
       "    }\n",
       "\n",
       "    .dataframe thead th {\n",
       "        text-align: right;\n",
       "    }\n",
       "</style>\n",
       "<table border=\"1\" class=\"dataframe\">\n",
       "  <thead>\n",
       "    <tr style=\"text-align: right;\">\n",
       "      <th></th>\n",
       "      <th>Job ID</th>\n",
       "      <th>Civil Service Title</th>\n",
       "      <th>Agency</th>\n",
       "      <th>Posting Type</th>\n",
       "      <th>Job Category</th>\n",
       "      <th>Salary Range From</th>\n",
       "      <th>Salary Range To</th>\n",
       "    </tr>\n",
       "  </thead>\n",
       "  <tbody>\n",
       "    <tr>\n",
       "      <th>0</th>\n",
       "      <td>424339_2022</td>\n",
       "      <td>PUBLIC HEALTH NURSE_2022</td>\n",
       "      <td>DEPT OF HEALTH/MENTAL HYGIENE_2022</td>\n",
       "      <td>External_2022</td>\n",
       "      <td>Health_2022</td>\n",
       "      <td>84252.0_2022</td>\n",
       "      <td>84252.0_2022</td>\n",
       "    </tr>\n",
       "    <tr>\n",
       "      <th>1</th>\n",
       "      <td>379094_2022</td>\n",
       "      <td>CERT IT DEVELOPER (APP)_2022</td>\n",
       "      <td>NYC EMPLOYEES RETIREMENT SYS_2022</td>\n",
       "      <td>External_2022</td>\n",
       "      <td>nan_2022</td>\n",
       "      <td>82884.0_2022</td>\n",
       "      <td>116391.0_2022</td>\n",
       "    </tr>\n",
       "    <tr>\n",
       "      <th>2</th>\n",
       "      <td>520417_2022</td>\n",
       "      <td>EXECUTIVE AGENCY COUNSEL_2022</td>\n",
       "      <td>NYC HOUSING AUTHORITY_2022</td>\n",
       "      <td>External_2022</td>\n",
       "      <td>Legal Affairs_2022</td>\n",
       "      <td>105000.0_2022</td>\n",
       "      <td>125000.0_2022</td>\n",
       "    </tr>\n",
       "    <tr>\n",
       "      <th>3</th>\n",
       "      <td>233549_2022</td>\n",
       "      <td>CERTIFIED IT ADMINISTRATOR (LA_2022</td>\n",
       "      <td>NYC EMPLOYEES RETIREMENT SYS_2022</td>\n",
       "      <td>External_2022</td>\n",
       "      <td>Information Technology &amp; Telecommunications_2022</td>\n",
       "      <td>87203.0_2022</td>\n",
       "      <td>131623.0_2022</td>\n",
       "    </tr>\n",
       "    <tr>\n",
       "      <th>4</th>\n",
       "      <td>510256_2022</td>\n",
       "      <td>ASSOCIATE HUMAN RIGHTS SPECIAL_2022</td>\n",
       "      <td>HUMAN RIGHTS COMMISSION_2022</td>\n",
       "      <td>External_2022</td>\n",
       "      <td>Constituent Services &amp; Community Programs_2022</td>\n",
       "      <td>58449.0_2022</td>\n",
       "      <td>67216.0_2022</td>\n",
       "    </tr>\n",
       "    <tr>\n",
       "      <th>...</th>\n",
       "      <td>...</td>\n",
       "      <td>...</td>\n",
       "      <td>...</td>\n",
       "      <td>...</td>\n",
       "      <td>...</td>\n",
       "      <td>...</td>\n",
       "      <td>...</td>\n",
       "    </tr>\n",
       "    <tr>\n",
       "      <th>3768</th>\n",
       "      <td>457839_2022</td>\n",
       "      <td>CERTIFIED IT ADMINISTRATOR (LA_2022</td>\n",
       "      <td>NYC EMPLOYEES RETIREMENT SYS_2022</td>\n",
       "      <td>Internal_2022</td>\n",
       "      <td>Technology, Data &amp; Innovation_2022</td>\n",
       "      <td>85371.0_2022</td>\n",
       "      <td>119883.0_2022</td>\n",
       "    </tr>\n",
       "    <tr>\n",
       "      <th>3769</th>\n",
       "      <td>527141_2022</td>\n",
       "      <td>ASSOCIATE HOUSING DEVELOPMENT_2022</td>\n",
       "      <td>HOUSING PRESERVATION &amp; DVLPMNT_2022</td>\n",
       "      <td>Internal_2022</td>\n",
       "      <td>Engineering, Architecture, &amp; Planning_2022</td>\n",
       "      <td>74650.0_2022</td>\n",
       "      <td>85847.0_2022</td>\n",
       "    </tr>\n",
       "    <tr>\n",
       "      <th>3770</th>\n",
       "      <td>509443_2022</td>\n",
       "      <td>SENIOR IT ARCHITECT_2022</td>\n",
       "      <td>FINANCIAL INFO SVCS AGENCY_2022</td>\n",
       "      <td>Internal_2022</td>\n",
       "      <td>Technology, Data &amp; Innovation_2022</td>\n",
       "      <td>100000.0_2022</td>\n",
       "      <td>115000.0_2022</td>\n",
       "    </tr>\n",
       "    <tr>\n",
       "      <th>3771</th>\n",
       "      <td>352367_2022</td>\n",
       "      <td>ECONOMIST_2022</td>\n",
       "      <td>DEPT OF HEALTH/MENTAL HYGIENE_2022</td>\n",
       "      <td>Internal_2022</td>\n",
       "      <td>Finance, Accounting, &amp; Procurement_2022</td>\n",
       "      <td>42288.0_2022</td>\n",
       "      <td>59400.0_2022</td>\n",
       "    </tr>\n",
       "    <tr>\n",
       "      <th>3772</th>\n",
       "      <td>478739_2022</td>\n",
       "      <td>AGENCY ATTORNEY INTERNE_2022</td>\n",
       "      <td>HUMAN RIGHTS COMMISSION_2022</td>\n",
       "      <td>External_2022</td>\n",
       "      <td>Legal Affairs_2022</td>\n",
       "      <td>62397.0_2022</td>\n",
       "      <td>71757.0_2022</td>\n",
       "    </tr>\n",
       "  </tbody>\n",
       "</table>\n",
       "<p>3773 rows × 7 columns</p>\n",
       "</div>"
      ],
      "text/plain": [
       "           Job ID                  Civil Service Title  \\\n",
       "0     424339_2022             PUBLIC HEALTH NURSE_2022   \n",
       "1     379094_2022         CERT IT DEVELOPER (APP)_2022   \n",
       "2     520417_2022        EXECUTIVE AGENCY COUNSEL_2022   \n",
       "3     233549_2022  CERTIFIED IT ADMINISTRATOR (LA_2022   \n",
       "4     510256_2022  ASSOCIATE HUMAN RIGHTS SPECIAL_2022   \n",
       "...           ...                                  ...   \n",
       "3768  457839_2022  CERTIFIED IT ADMINISTRATOR (LA_2022   \n",
       "3769  527141_2022   ASSOCIATE HOUSING DEVELOPMENT_2022   \n",
       "3770  509443_2022             SENIOR IT ARCHITECT_2022   \n",
       "3771  352367_2022                       ECONOMIST_2022   \n",
       "3772  478739_2022         AGENCY ATTORNEY INTERNE_2022   \n",
       "\n",
       "                                   Agency   Posting Type  \\\n",
       "0      DEPT OF HEALTH/MENTAL HYGIENE_2022  External_2022   \n",
       "1       NYC EMPLOYEES RETIREMENT SYS_2022  External_2022   \n",
       "2              NYC HOUSING AUTHORITY_2022  External_2022   \n",
       "3       NYC EMPLOYEES RETIREMENT SYS_2022  External_2022   \n",
       "4            HUMAN RIGHTS COMMISSION_2022  External_2022   \n",
       "...                                   ...            ...   \n",
       "3768    NYC EMPLOYEES RETIREMENT SYS_2022  Internal_2022   \n",
       "3769  HOUSING PRESERVATION & DVLPMNT_2022  Internal_2022   \n",
       "3770      FINANCIAL INFO SVCS AGENCY_2022  Internal_2022   \n",
       "3771   DEPT OF HEALTH/MENTAL HYGIENE_2022  Internal_2022   \n",
       "3772         HUMAN RIGHTS COMMISSION_2022  External_2022   \n",
       "\n",
       "                                          Job Category Salary Range From  \\\n",
       "0                                          Health_2022      84252.0_2022   \n",
       "1                                             nan_2022      82884.0_2022   \n",
       "2                                   Legal Affairs_2022     105000.0_2022   \n",
       "3     Information Technology & Telecommunications_2022      87203.0_2022   \n",
       "4       Constituent Services & Community Programs_2022      58449.0_2022   \n",
       "...                                                ...               ...   \n",
       "3768                Technology, Data & Innovation_2022      85371.0_2022   \n",
       "3769        Engineering, Architecture, & Planning_2022      74650.0_2022   \n",
       "3770                Technology, Data & Innovation_2022     100000.0_2022   \n",
       "3771           Finance, Accounting, & Procurement_2022      42288.0_2022   \n",
       "3772                                Legal Affairs_2022      62397.0_2022   \n",
       "\n",
       "     Salary Range To  \n",
       "0       84252.0_2022  \n",
       "1      116391.0_2022  \n",
       "2      125000.0_2022  \n",
       "3      131623.0_2022  \n",
       "4       67216.0_2022  \n",
       "...              ...  \n",
       "3768   119883.0_2022  \n",
       "3769    85847.0_2022  \n",
       "3770   115000.0_2022  \n",
       "3771    59400.0_2022  \n",
       "3772    71757.0_2022  \n",
       "\n",
       "[3773 rows x 7 columns]"
      ]
     },
     "execution_count": 12,
     "metadata": {},
     "output_type": "execute_result"
    }
   ],
   "source": [
    "#add 2022 to every column \n",
    "def add_year(text): \n",
    "    return str(text) + '_2022'\n",
    "\n",
    "data.applymap(add_year)"
   ]
  },
  {
   "cell_type": "code",
   "execution_count": 13,
   "id": "80914c94",
   "metadata": {},
   "outputs": [
    {
     "data": {
      "text/plain": [
       "0       cat\n",
       "1       dog\n",
       "2       NaN\n",
       "3    rabbit\n",
       "dtype: object"
      ]
     },
     "execution_count": 13,
     "metadata": {},
     "output_type": "execute_result"
    }
   ],
   "source": [
    "s = pd.Series(['cat', 'dog','NaN','rabbit'])\n",
    "s"
   ]
  },
  {
   "cell_type": "code",
   "execution_count": 14,
   "id": "30a44a2e",
   "metadata": {},
   "outputs": [
    {
     "data": {
      "text/plain": [
       "0    kitten\n",
       "1     puppy\n",
       "2       NaN\n",
       "3       NaN\n",
       "dtype: object"
      ]
     },
     "execution_count": 14,
     "metadata": {},
     "output_type": "execute_result"
    }
   ],
   "source": [
    "s.map({'cat':'kitten', 'dog':'puppy'})"
   ]
  },
  {
   "cell_type": "code",
   "execution_count": 15,
   "id": "8d73968e",
   "metadata": {},
   "outputs": [],
   "source": [
    "#create a function to change word from DEPT to kitten and use with map"
   ]
  },
  {
   "cell_type": "code",
   "execution_count": 16,
   "id": "a3c35c94",
   "metadata": {},
   "outputs": [],
   "source": [
    "def change_word(title): \n",
    "    return title.replace('DEPT', 'kitten')"
   ]
  },
  {
   "cell_type": "code",
   "execution_count": 17,
   "id": "c5ff8ae6",
   "metadata": {},
   "outputs": [
    {
     "data": {
      "text/plain": [
       "0       kitten OF HEALTH/MENTAL HYGIENE\n",
       "1          NYC EMPLOYEES RETIREMENT SYS\n",
       "2                 NYC HOUSING AUTHORITY\n",
       "3          NYC EMPLOYEES RETIREMENT SYS\n",
       "4               HUMAN RIGHTS COMMISSION\n",
       "                     ...               \n",
       "3768       NYC EMPLOYEES RETIREMENT SYS\n",
       "3769     HOUSING PRESERVATION & DVLPMNT\n",
       "3770         FINANCIAL INFO SVCS AGENCY\n",
       "3771    kitten OF HEALTH/MENTAL HYGIENE\n",
       "3772            HUMAN RIGHTS COMMISSION\n",
       "Name: Agency, Length: 3773, dtype: object"
      ]
     },
     "execution_count": 17,
     "metadata": {},
     "output_type": "execute_result"
    }
   ],
   "source": [
    "data['Agency'].map(change_word)"
   ]
  },
  {
   "cell_type": "code",
   "execution_count": 18,
   "id": "58c19bc6",
   "metadata": {},
   "outputs": [
    {
     "data": {
      "text/plain": [
       "0       This position is offered by DEPT OF HEALTH/MEN...\n",
       "1       This position is offered by NYC EMPLOYEES RETI...\n",
       "2       This position is offered by NYC HOUSING AUTHORITY\n",
       "3       This position is offered by NYC EMPLOYEES RETI...\n",
       "4       This position is offered by HUMAN RIGHTS COMMI...\n",
       "                              ...                        \n",
       "3768    This position is offered by NYC EMPLOYEES RETI...\n",
       "3769    This position is offered by HOUSING PRESERVATI...\n",
       "3770    This position is offered by FINANCIAL INFO SVC...\n",
       "3771    This position is offered by DEPT OF HEALTH/MEN...\n",
       "3772    This position is offered by HUMAN RIGHTS COMMI...\n",
       "Name: Agency, Length: 3773, dtype: object"
      ]
     },
     "execution_count": 18,
     "metadata": {},
     "output_type": "execute_result"
    }
   ],
   "source": [
    "data['Agency'].map('This position is offered by {}'.format)"
   ]
  },
  {
   "cell_type": "code",
   "execution_count": 20,
   "id": "e6d6499b",
   "metadata": {},
   "outputs": [],
   "source": [
    "#s.map(function,na_action='ignore' )"
   ]
  },
  {
   "cell_type": "code",
   "execution_count": 23,
   "id": "54198fc2",
   "metadata": {},
   "outputs": [
    {
     "data": {
      "text/plain": [
       "0       cat\n",
       "1       dog\n",
       "2       NaN\n",
       "3    rabbit\n",
       "dtype: object"
      ]
     },
     "execution_count": 23,
     "metadata": {},
     "output_type": "execute_result"
    }
   ],
   "source": [
    "s"
   ]
  },
  {
   "cell_type": "code",
   "execution_count": 24,
   "id": "9ea0d09d",
   "metadata": {},
   "outputs": [],
   "source": [
    "def change_cat(title): \n",
    "    return title.replace('cat', 'lion')"
   ]
  },
  {
   "cell_type": "code",
   "execution_count": 25,
   "id": "eda1f74f",
   "metadata": {},
   "outputs": [
    {
     "data": {
      "text/plain": [
       "0      lion\n",
       "1       dog\n",
       "2       NaN\n",
       "3    rabbit\n",
       "dtype: object"
      ]
     },
     "execution_count": 25,
     "metadata": {},
     "output_type": "execute_result"
    }
   ],
   "source": [
    "s.map(change_cat, na_action='ignore')"
   ]
  },
  {
   "cell_type": "code",
   "execution_count": 26,
   "id": "57eaae1f",
   "metadata": {},
   "outputs": [
    {
     "data": {
      "text/html": [
       "<div>\n",
       "<style scoped>\n",
       "    .dataframe tbody tr th:only-of-type {\n",
       "        vertical-align: middle;\n",
       "    }\n",
       "\n",
       "    .dataframe tbody tr th {\n",
       "        vertical-align: top;\n",
       "    }\n",
       "\n",
       "    .dataframe thead th {\n",
       "        text-align: right;\n",
       "    }\n",
       "</style>\n",
       "<table border=\"1\" class=\"dataframe\">\n",
       "  <thead>\n",
       "    <tr style=\"text-align: right;\">\n",
       "      <th></th>\n",
       "      <th>Job ID</th>\n",
       "      <th>Civil Service Title</th>\n",
       "      <th>Agency</th>\n",
       "      <th>Posting Type</th>\n",
       "      <th>Job Category</th>\n",
       "      <th>Salary Range From</th>\n",
       "      <th>Salary Range To</th>\n",
       "    </tr>\n",
       "  </thead>\n",
       "  <tbody>\n",
       "    <tr>\n",
       "      <th>0</th>\n",
       "      <td>424339</td>\n",
       "      <td>PUBLIC HEALTH NURSE</td>\n",
       "      <td>DEPT OF HEALTH/MENTAL HYGIENE</td>\n",
       "      <td>External</td>\n",
       "      <td>Health</td>\n",
       "      <td>84252.0</td>\n",
       "      <td>84252.0</td>\n",
       "    </tr>\n",
       "    <tr>\n",
       "      <th>1</th>\n",
       "      <td>379094</td>\n",
       "      <td>CERT IT DEVELOPER (APP)</td>\n",
       "      <td>NYC EMPLOYEES RETIREMENT SYS</td>\n",
       "      <td>External</td>\n",
       "      <td>NaN</td>\n",
       "      <td>82884.0</td>\n",
       "      <td>116391.0</td>\n",
       "    </tr>\n",
       "    <tr>\n",
       "      <th>2</th>\n",
       "      <td>520417</td>\n",
       "      <td>EXECUTIVE AGENCY COUNSEL</td>\n",
       "      <td>NYC HOUSING AUTHORITY</td>\n",
       "      <td>External</td>\n",
       "      <td>Legal Affairs</td>\n",
       "      <td>105000.0</td>\n",
       "      <td>125000.0</td>\n",
       "    </tr>\n",
       "    <tr>\n",
       "      <th>3</th>\n",
       "      <td>233549</td>\n",
       "      <td>CERTIFIED IT ADMINISTRATOR (LA</td>\n",
       "      <td>NYC EMPLOYEES RETIREMENT SYS</td>\n",
       "      <td>External</td>\n",
       "      <td>Information Technology &amp; Telecommunications</td>\n",
       "      <td>87203.0</td>\n",
       "      <td>131623.0</td>\n",
       "    </tr>\n",
       "    <tr>\n",
       "      <th>4</th>\n",
       "      <td>510256</td>\n",
       "      <td>ASSOCIATE HUMAN RIGHTS SPECIAL</td>\n",
       "      <td>HUMAN RIGHTS COMMISSION</td>\n",
       "      <td>External</td>\n",
       "      <td>Constituent Services &amp; Community Programs</td>\n",
       "      <td>58449.0</td>\n",
       "      <td>67216.0</td>\n",
       "    </tr>\n",
       "  </tbody>\n",
       "</table>\n",
       "</div>"
      ],
      "text/plain": [
       "   Job ID             Civil Service Title                         Agency  \\\n",
       "0  424339             PUBLIC HEALTH NURSE  DEPT OF HEALTH/MENTAL HYGIENE   \n",
       "1  379094         CERT IT DEVELOPER (APP)   NYC EMPLOYEES RETIREMENT SYS   \n",
       "2  520417        EXECUTIVE AGENCY COUNSEL          NYC HOUSING AUTHORITY   \n",
       "3  233549  CERTIFIED IT ADMINISTRATOR (LA   NYC EMPLOYEES RETIREMENT SYS   \n",
       "4  510256  ASSOCIATE HUMAN RIGHTS SPECIAL        HUMAN RIGHTS COMMISSION   \n",
       "\n",
       "  Posting Type                                 Job Category  \\\n",
       "0     External                                       Health   \n",
       "1     External                                          NaN   \n",
       "2     External                                Legal Affairs   \n",
       "3     External  Information Technology & Telecommunications   \n",
       "4     External    Constituent Services & Community Programs   \n",
       "\n",
       "   Salary Range From  Salary Range To  \n",
       "0            84252.0          84252.0  \n",
       "1            82884.0         116391.0  \n",
       "2           105000.0         125000.0  \n",
       "3            87203.0         131623.0  \n",
       "4            58449.0          67216.0  "
      ]
     },
     "execution_count": 26,
     "metadata": {},
     "output_type": "execute_result"
    }
   ],
   "source": [
    "data.head()"
   ]
  },
  {
   "cell_type": "code",
   "execution_count": 32,
   "id": "1f1f592f",
   "metadata": {},
   "outputs": [
    {
     "data": {
      "text/plain": [
       "0       Hospital\n",
       "1            NaN\n",
       "2            Law\n",
       "3            NaN\n",
       "4            NaN\n",
       "          ...   \n",
       "3768         NaN\n",
       "3769         NaN\n",
       "3770         NaN\n",
       "3771         NaN\n",
       "3772         Law\n",
       "Name: Job Category, Length: 3773, dtype: object"
      ]
     },
     "execution_count": 32,
     "metadata": {},
     "output_type": "execute_result"
    }
   ],
   "source": [
    "data['Job Category'].map({'Health':'Hospital', 'Legal Affairs': 'Law'}, na_action='ignore')"
   ]
  },
  {
   "cell_type": "code",
   "execution_count": null,
   "id": "d4714ddc",
   "metadata": {},
   "outputs": [],
   "source": [
    "data['Job Category'].map({'Health':'Hospital', 'Legal Affairs': 'Law'}, na_action='ignore')"
   ]
  },
  {
   "cell_type": "code",
   "execution_count": null,
   "id": "f21210cc",
   "metadata": {},
   "outputs": [],
   "source": []
  },
  {
   "cell_type": "code",
   "execution_count": null,
   "id": "2b533cde",
   "metadata": {},
   "outputs": [],
   "source": []
  },
  {
   "cell_type": "code",
   "execution_count": null,
   "id": "6a44ddb9",
   "metadata": {},
   "outputs": [],
   "source": []
  },
  {
   "cell_type": "code",
   "execution_count": null,
   "id": "eadbefdd",
   "metadata": {},
   "outputs": [],
   "source": []
  },
  {
   "cell_type": "code",
   "execution_count": null,
   "id": "2d830af6",
   "metadata": {},
   "outputs": [],
   "source": []
  },
  {
   "cell_type": "code",
   "execution_count": null,
   "id": "29b6bc3f",
   "metadata": {},
   "outputs": [],
   "source": []
  },
  {
   "cell_type": "code",
   "execution_count": null,
   "id": "6d22fb21",
   "metadata": {},
   "outputs": [],
   "source": []
  },
  {
   "cell_type": "code",
   "execution_count": null,
   "id": "3db13e58",
   "metadata": {},
   "outputs": [],
   "source": []
  },
  {
   "cell_type": "code",
   "execution_count": null,
   "id": "ee60f00d",
   "metadata": {},
   "outputs": [],
   "source": []
  },
  {
   "cell_type": "code",
   "execution_count": null,
   "id": "2d15dddb",
   "metadata": {},
   "outputs": [],
   "source": []
  },
  {
   "cell_type": "code",
   "execution_count": null,
   "id": "04c27f08",
   "metadata": {},
   "outputs": [],
   "source": []
  },
  {
   "cell_type": "code",
   "execution_count": null,
   "id": "1be5ff48",
   "metadata": {},
   "outputs": [],
   "source": []
  },
  {
   "cell_type": "code",
   "execution_count": null,
   "id": "6e631d1d",
   "metadata": {},
   "outputs": [],
   "source": []
  },
  {
   "cell_type": "code",
   "execution_count": null,
   "id": "9b5f6da5",
   "metadata": {},
   "outputs": [],
   "source": []
  },
  {
   "cell_type": "code",
   "execution_count": null,
   "id": "e3a47d9b",
   "metadata": {},
   "outputs": [],
   "source": []
  },
  {
   "cell_type": "code",
   "execution_count": null,
   "id": "30bde6af",
   "metadata": {},
   "outputs": [],
   "source": []
  },
  {
   "cell_type": "code",
   "execution_count": null,
   "id": "092287ab",
   "metadata": {},
   "outputs": [],
   "source": []
  },
  {
   "cell_type": "code",
   "execution_count": null,
   "id": "6b434a97",
   "metadata": {},
   "outputs": [],
   "source": []
  },
  {
   "cell_type": "code",
   "execution_count": null,
   "id": "e5daade5",
   "metadata": {},
   "outputs": [],
   "source": []
  },
  {
   "cell_type": "code",
   "execution_count": null,
   "id": "8d12c402",
   "metadata": {},
   "outputs": [],
   "source": []
  },
  {
   "cell_type": "code",
   "execution_count": null,
   "id": "d1ce4750",
   "metadata": {},
   "outputs": [],
   "source": []
  }
 ],
 "metadata": {
  "kernelspec": {
   "display_name": "Python 3 (ipykernel)",
   "language": "python",
   "name": "python3"
  },
  "language_info": {
   "codemirror_mode": {
    "name": "ipython",
    "version": 3
   },
   "file_extension": ".py",
   "mimetype": "text/x-python",
   "name": "python",
   "nbconvert_exporter": "python",
   "pygments_lexer": "ipython3",
   "version": "3.8.11"
  }
 },
 "nbformat": 4,
 "nbformat_minor": 5
}
